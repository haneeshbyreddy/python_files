{
 "cells": [
  {
   "cell_type": "code",
   "execution_count": 16,
   "metadata": {},
   "outputs": [
    {
     "name": "stdout",
     "output_type": "stream",
     "text": [
      "270\n"
     ]
    }
   ],
   "source": [
    "#encapsulation\n",
    "class encapsulationclass:\n",
    "    def __init__(self) -> None:\n",
    "        self.__x=90\n",
    "    def function(self):\n",
    "        self.__x+=90\n",
    "        return self.__x\n",
    "    def getter_function(self):\n",
    "        return self.__x\n",
    "class encapsulationclass1(encapsulationclass):\n",
    "    def function(self):\n",
    "        super().function()\n",
    "        k=self.getter_function()\n",
    "        return k+90\n",
    "object=encapsulationclass1()\n",
    "\n",
    "\n",
    "print(object.function())"
   ]
  },
  {
   "cell_type": "code",
   "execution_count": 22,
   "metadata": {},
   "outputs": [],
   "source": [
    "class node:\n",
    "    def __init__(self) -> None:\n",
    "        self.left=None\n",
    "        self.right=None\n",
    "        self.value=0"
   ]
  },
  {
   "cell_type": "code",
   "execution_count": 27,
   "metadata": {},
   "outputs": [
    {
     "name": "stdout",
     "output_type": "stream",
     "text": [
      "enter the value of left child\n",
      "enter the value of left child\n",
      "enter the second child\n",
      "enter the second child\n",
      "5\n"
     ]
    }
   ],
   "source": [
    "class binary_tree:\n",
    "    def create(self):\n",
    "        newode=node()\n",
    "        value=int(input(\"enter the value\"))\n",
    "        newode.value=value\n",
    "        if(value==-1):\n",
    "            return None\n",
    "        print(\"enter the value of left child\")\n",
    "        newode.left=self.create()\n",
    "        print(\"enter the second child\")\n",
    "        newode.right=self.create()\n",
    "        return newode\n",
    "    def display(self,newnode):\n",
    "        print(newnode.value)\n",
    "\n",
    "\n",
    "object=binary_tree()\n",
    "root=object.create()\n",
    "object.display(root)\n"
   ]
  },
  {
   "cell_type": "code",
   "execution_count": null,
   "metadata": {},
   "outputs": [],
   "source": []
  },
  {
   "cell_type": "code",
   "execution_count": 26,
   "metadata": {},
   "outputs": [
    {
     "name": "stdout",
     "output_type": "stream",
     "text": [
      "Enter the value of left child\n",
      "Enter the value of left child\n",
      "Enter the value of right child\n",
      "Enter the value of right child\n",
      "In-order traversal of the tree:\n",
      "6 5 "
     ]
    }
   ],
   "source": [
    "class Node:\n",
    "    def __init__(self, value=None):\n",
    "        self.value = value\n",
    "        self.left = None\n",
    "        self.right = None\n",
    "\n",
    "class BinaryTree:\n",
    "    def create(self):\n",
    "        value = int(input(\"Enter the value (-1 for no node): \"))\n",
    "        if value == -1:\n",
    "            return None\n",
    "        new_node = Node(value)\n",
    "        print(\"Enter the value of left child\")\n",
    "        new_node.left = self.create()\n",
    "        print(\"Enter the value of right child\")\n",
    "        new_node.right = self.create()\n",
    "        return new_node\n",
    "\n",
    "    def display(self, node):\n",
    "        if node is not None:\n",
    "            self.display(node.left)\n",
    "            print(node.value, end=' ')\n",
    "            self.display(node.right)\n",
    "\n",
    "# Create and use the binary tree\n",
    "tree = BinaryTree()\n",
    "root = tree.create()\n",
    "print(\"In-order traversal of the tree:\")\n",
    "tree.display(root)\n"
   ]
  },
  {
   "cell_type": "code",
   "execution_count": null,
   "metadata": {},
   "outputs": [],
   "source": []
  }
 ],
 "metadata": {
  "kernelspec": {
   "display_name": "base",
   "language": "python",
   "name": "python3"
  },
  "language_info": {
   "codemirror_mode": {
    "name": "ipython",
    "version": 3
   },
   "file_extension": ".py",
   "mimetype": "text/x-python",
   "name": "python",
   "nbconvert_exporter": "python",
   "pygments_lexer": "ipython3",
   "version": "3.12.1"
  }
 },
 "nbformat": 4,
 "nbformat_minor": 2
}
