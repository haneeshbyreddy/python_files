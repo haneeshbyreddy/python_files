{
 "cells": [
  {
   "cell_type": "code",
   "execution_count": 21,
   "metadata": {},
   "outputs": [
    {
     "name": "stdout",
     "output_type": "stream",
     "text": [
      "before sorted [12, 67, 4, 5, 89, 8, 9, 10, 10, 1]\n",
      "after sorting  [1, 4, 5, 8, 9, 10, 10, 12, 67, 89]\n",
      "Sorted list: [1, 4, 5, 8, 9, 10, 10, 12, 67, 89]\n",
      "before sorted [12, 67, 4, 5, 89, 8, 9, 10, 10, 1]\n",
      "after sorting  [1, 4, 5, 8, 9, 10, 10, 12, 67, 89]\n",
      "[1, 4, 5, 8, 9, 10, 12, 67, 89]\n"
     ]
    }
   ],
   "source": [
    "array_list = [12, 67, 4, 5,89, 8, 9, 10, 10,1]\n",
    "sorted_list = array_list[:]  \n",
    "\n",
    "for i in range(len(sorted_list)-1):\n",
    "    for j in range(0, len(sorted_list) - i - 1):\n",
    "        if sorted_list[j] > sorted_list[j + 1]:\n",
    "          \n",
    "            sorted_list[j], sorted_list[j + 1] = sorted_list[j + 1], sorted_list[j]\n",
    "print(\"before sorted\",array_list)\n",
    "print(\"after sorting \",sorted_list)\n",
    "sorted_list = array_list[:] \n",
    "j=0\n",
    "while j < len(sorted_list) - 1:\n",
    "    if sorted_list[j] > sorted_list[j + 1]:\n",
    "        sorted_list[j], sorted_list[j + 1] = sorted_list[j + 1], sorted_list[j]\n",
    "        j = 0 \n",
    "    else:\n",
    "        j += 1 \n",
    "\n",
    "print(\"Sorted list:\", sorted_list)\n",
    "    \n",
    "print(\"before sorted\",array_list)\n",
    "print(\"after sorting \",sorted_list)\n",
    "remove_duplicates=[]\n",
    "for i in sorted_list:\n",
    "    if i in remove_duplicates:\n",
    "        continue\n",
    "    else:\n",
    "        remove_duplicates.append(i)\n",
    "print(remove_duplicates) "
   ]
  },
  {
   "cell_type": "code",
   "execution_count": 22,
   "metadata": {},
   "outputs": [
    {
     "name": "stdout",
     "output_type": "stream",
     "text": [
      "[12, 67, 4, 5, 89, 8, 9, 10, 10, 1]\n",
      "[1, 4, 5, 8, 9, 10, 10, 12, 67, 89]\n"
     ]
    }
   ],
   "source": [
    "#bubble sort\n",
    "#placing the largest elememt in the correct position\n",
    "print(array_list)\n",
    "for i in range(0,len(array_list)):\n",
    "    for j in range(0,len(array_list)):\n",
    "        if array_list[j]>array_list[i]:\n",
    "            #swap\n",
    "            array_list[i],array_list[j]=array_list[j],array_list[i]\n",
    "print(array_list)\n",
    "\n",
    "\n"
   ]
  },
  {
   "cell_type": "code",
   "execution_count": 2,
   "metadata": {},
   "outputs": [
    {
     "name": "stdout",
     "output_type": "stream",
     "text": [
      "[89, 67, 12, 10, 10, 9, 8, 5, 4, 1]\n"
     ]
    }
   ],
   "source": [
    "#insertion sort\n",
    "array_list = [12, 67, 4, 5,89, 8, 9, 10, 10,1]\n",
    "for i in range(1,len(array_list)):\n",
    "    for j in range(i):\n",
    "        if array_list[j]<array_list[i]:\n",
    "            array_list[i],array_list[j]=array_list[j],array_list[i]\n",
    "            \n",
    "print(array_list)"
   ]
  },
  {
   "cell_type": "code",
   "execution_count": 5,
   "metadata": {},
   "outputs": [
    {
     "name": "stdout",
     "output_type": "stream",
     "text": [
      "[12, 67, 4, 5, 89, 8, 9, 10, 10, 1]\n",
      "[1, 4, 5, 8, 9, 10, 10, 12, 67, 89]\n"
     ]
    }
   ],
   "source": [
    "#selection sort\n",
    "array_list = [12, 67, 4, 5,89, 8, 9, 10, 10,1]\n",
    "print(array_list)\n",
    "for i in range(0,len(array_list)-1):\n",
    "    min_idx=i\n",
    "\n",
    "    for j in range(i+1,len(array_list)):\n",
    "        if array_list[j] <array_list[min_idx]:\n",
    "            min_idx=j\n",
    "    array_list[min_idx],array_list[i]=array_list[i],array_list[min_idx]\n",
    "print(array_list)\n",
    "\n"
   ]
  },
  {
   "cell_type": "code",
   "execution_count": 11,
   "metadata": {},
   "outputs": [
    {
     "name": "stdout",
     "output_type": "stream",
     "text": [
      "5 6 11 12 13 "
     ]
    }
   ],
   "source": [
    "\n",
    "# Function to do insertion sort\n",
    "def insertionSort(arr):\n",
    "\n",
    "    # Traverse through 1 to len(arr)\n",
    "    for i in range(1, len(arr)):\n",
    "\n",
    "        key = arr[i]\n",
    "\n",
    "        # Move elements of arr[0..i-1], that are\n",
    "        # greater than key, to one position ahead\n",
    "        # of their current position\n",
    "        j = i-1\n",
    "        while j >= 0 and key < arr[j] :\n",
    "                arr[j + 1] = arr[j]\n",
    "                j -= 1\n",
    "        arr[j + 1] = key\n",
    "\n",
    "\n",
    "# Driver code to test above\n",
    "arr = [12, 11, 13, 5, 6]\n",
    "insertionSort(arr)\n",
    "for i in range(len(arr)):\n",
    "    print (arr[i],end=\" \")"
   ]
  },
  {
   "cell_type": "code",
   "execution_count": 35,
   "metadata": {},
   "outputs": [
    {
     "name": "stdout",
     "output_type": "stream",
     "text": [
      "[5, 6, 11, 12, 13]\n"
     ]
    }
   ],
   "source": [
    "def merge(array_list, start, mid, end):\n",
    "    left = array_list[start:mid+1]\n",
    "    right = array_list[mid+1:end+1]\n",
    "    \n",
    "    i = 0\n",
    "    j = 0\n",
    "    k = start\n",
    "    \n",
    "    while i < len(left) and j < len(right):\n",
    "        if left[i] <= right[j]:\n",
    "            array_list[k] = left[i]\n",
    "            i += 1\n",
    "        else:\n",
    "            array_list[k] = right[j]\n",
    "            j += 1\n",
    "        k += 1\n",
    "    \n",
    "    while i < len(left):\n",
    "        array_list[k] = left[i]\n",
    "        i += 1\n",
    "        k += 1\n",
    "    \n",
    "    while j < len(right):\n",
    "        array_list[k] = right[j]\n",
    "        j += 1\n",
    "        k += 1\n",
    "\n",
    "def merge_sort(array_list, start, end):\n",
    "    if start < end:\n",
    "        mid = (start + end) // 2\n",
    "        merge_sort(array_list, start, mid)\n",
    "        merge_sort(array_list, mid + 1, end)\n",
    "        merge(array_list, start, mid, end)\n",
    "\n",
    "arr = [12, 11, 13, 5, 6]\n",
    "merge_sort(arr, 0, len(arr) - 1)\n",
    "print(arr)\n"
   ]
  },
  {
   "cell_type": "code",
   "execution_count": 37,
   "metadata": {},
   "outputs": [
    {
     "name": "stdout",
     "output_type": "stream",
     "text": [
      "[5, 6, 11, 12, 13]\n"
     ]
    }
   ],
   "source": [
    "def partition(array_list, low, high):\n",
    "    \n",
    "    pivot = array_list[high]\n",
    "    i = low - 1\n",
    "    \n",
    "    for j in range(low, high):\n",
    "        if array_list[j] <= pivot:\n",
    "            i += 1\n",
    "            array_list[i], array_list[j] = array_list[j], array_list[i]\n",
    "    \n",
    "    array_list[i + 1], array_list[high] = array_list[high], array_list[i + 1]\n",
    "    return i + 1\n",
    "\n",
    "def quick_sort(array_list, low, high):\n",
    "    if low < high:\n",
    "        pi = partition(array_list, low, high)\n",
    "        \n",
    "        quick_sort(array_list, low, pi - 1)\n",
    "        quick_sort(array_list, pi + 1, high)\n",
    "\n",
    "arr = [12, 11, 13, 5, 6]\n",
    "quick_sort(arr, 0, len(arr) - 1)\n",
    "print(arr)\n"
   ]
  },
  {
   "cell_type": "code",
   "execution_count": 3,
   "metadata": {},
   "outputs": [
    {
     "name": "stdout",
     "output_type": "stream",
     "text": [
      "2\n",
      "1\n",
      "0\n",
      "Sorted array is\n",
      "5 6 7 11 12 13 "
     ]
    }
   ],
   "source": [
    "#heapsort\n",
    "# Python program for implementation of heap Sort\n",
    "\n",
    "# To heapify subtree rooted at index i.\n",
    "# n is size of heap\n",
    "\n",
    "\n",
    "def heapify(arr, N, i):\n",
    "    largest = i  # Initialize largest as root\n",
    "    l = 2 * i + 1     # left = 2*i + 1\n",
    "    r = 2 * i + 2     # right = 2*i + 2\n",
    "\n",
    "    # See if left child of root exists and is\n",
    "    # greater than root\n",
    "    if l < N and arr[largest] < arr[l]:\n",
    "        largest = l\n",
    "\n",
    "    # See if right child of root exists and is\n",
    "    # greater than root\n",
    "    if r < N and arr[largest] < arr[r]:\n",
    "        largest = r\n",
    "\n",
    "    # Change root, if needed\n",
    "    if largest != i:\n",
    "        arr[i], arr[largest] = arr[largest], arr[i]  # swap\n",
    "\n",
    "        # Heapify the root.\n",
    "        heapify(arr, N, largest)\n",
    "\n",
    "# The main function to sort an array of given size\n",
    "\n",
    "\n",
    "def heapSort(arr):\n",
    "    N = len(arr)\n",
    "\n",
    "    # Build a maxheap.\n",
    "    for i in range(N//2 - 1, -1, -1):\n",
    "        heapify(arr, N, i)\n",
    "\n",
    "    # One by one extract elements\n",
    "    for i in range(N-1, 0, -1):\n",
    "        arr[i], arr[0] = arr[0], arr[i]  # swap\n",
    "        heapify(arr, i, 0)\n",
    "\n",
    "\n",
    "# Driver's code\n",
    "if __name__ == '__main__':\n",
    "    arr = [12, 11, 13, 5, 6, 7]\n",
    "\n",
    "    # Function call\n",
    "    heapSort(arr)\n",
    "    N = len(arr)\n",
    "\n",
    "    print(\"Sorted array is\")\n",
    "    for i in range(N):\n",
    "        print(\"%d\" % arr[i], end=\" \")"
   ]
  },
  {
   "cell_type": "code",
   "execution_count": null,
   "metadata": {},
   "outputs": [],
   "source": []
  }
 ],
 "metadata": {
  "kernelspec": {
   "display_name": "Python 3",
   "language": "python",
   "name": "python3"
  },
  "language_info": {
   "codemirror_mode": {
    "name": "ipython",
    "version": 3
   },
   "file_extension": ".py",
   "mimetype": "text/x-python",
   "name": "python",
   "nbconvert_exporter": "python",
   "pygments_lexer": "ipython3",
   "version": "3.10.12"
  }
 },
 "nbformat": 4,
 "nbformat_minor": 2
}
