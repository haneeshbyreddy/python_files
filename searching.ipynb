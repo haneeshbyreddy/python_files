{
 "cells": [
  {
   "cell_type": "code",
   "execution_count": 74,
   "metadata": {},
   "outputs": [
    {
     "name": "stdout",
     "output_type": "stream",
     "text": [
      "found\n"
     ]
    }
   ],
   "source": [
    "#binarysearch\n",
    "\n",
    "def binary_search(arr,low,high,key):\n",
    "    \n",
    "    while(low<=high):\n",
    "        lenght=(low+high)//2\n",
    "        if (arr[lenght]==key):\n",
    "            return \"found\"\n",
    "        elif arr[lenght]<key:\n",
    "            low=lenght+1\n",
    "        else:\n",
    "            high=lenght-1\n",
    "    return -1\n",
    "\n",
    "\n",
    "arr=[1,2,3,4,5,6,7,8,9,10]\n",
    "result=binary_search(arr,0,len(arr)-1,8)\n",
    "print(result)"
   ]
  },
  {
   "cell_type": "code",
   "execution_count": 31,
   "metadata": {},
   "outputs": [
    {
     "name": "stdout",
     "output_type": "stream",
     "text": [
      "-1\n"
     ]
    }
   ],
   "source": [
    "\n",
    "def linear_search(arr,low,high,key):\n",
    "    for i in range(low,high):\n",
    "        if (arr[i]==key):\n",
    "            return \"found\"\n",
    "    return -1\n",
    "arr=[1,2,3,4,5,6,7,8,9,10]\n",
    "print(linear_search(arr,0,len(arr)-1,11))"
   ]
  },
  {
   "cell_type": "code",
   "execution_count": 32,
   "metadata": {},
   "outputs": [
    {
     "name": "stdout",
     "output_type": "stream",
     "text": [
      "found\n"
     ]
    }
   ],
   "source": [
    "def interpolation_search(arr, lo, hi, key):\n",
    "    if lo <= hi and arr[lo] <= key <= arr[hi]:\n",
    "        pos = lo + ((hi - lo) * (key - arr[lo]) // (arr[hi] - arr[lo]))\n",
    "\n",
    "        if arr[pos] == key:\n",
    "            return \"found\"\n",
    "        elif arr[pos] < key:\n",
    "            return interpolation_search(arr, pos + 1, hi, key)\n",
    "        else:\n",
    "            return interpolation_search(arr, lo, pos - 1, key)\n",
    "    return -1\n",
    "\n",
    "arr = [1, 2, 3, 4, 5, 6, 7, 8, 9, 10]\n",
    "print(interpolation_search(arr, 0, len(arr) - 1, 5)) \n"
   ]
  },
  {
   "cell_type": "code",
   "execution_count": 33,
   "metadata": {},
   "outputs": [
    {
     "name": "stdout",
     "output_type": "stream",
     "text": [
      "found\n"
     ]
    }
   ],
   "source": [
    "\n",
    "\n",
    "def expotential_search(arr,key):\n",
    "    if arr[0]==key:\n",
    "        return \"found\"\n",
    "    i=1\n",
    "    while i<len(arr) and arr[i]<=key:\n",
    "        i=i*2\n",
    "    return binary_search(arr,i//2,min(i,len(arr)-1),key)\n",
    "\n",
    "arr = [1, 2, 3, 4, 5, 6, 7, 8, 9, 10]\n",
    "result=expotential_search(arr,3)\n",
    "print(result)"
   ]
  },
  {
   "cell_type": "code",
   "execution_count": 61,
   "metadata": {},
   "outputs": [
    {
     "name": "stdout",
     "output_type": "stream",
     "text": [
      "found\n"
     ]
    }
   ],
   "source": [
    "\n",
    "# Function to perform Ternary Search\n",
    "def ternarySearch(l, r, key, arr):\n",
    "\n",
    "    if (r >= l):\n",
    "\n",
    "        # Find the mid1 and mid2\n",
    "        mid1 = l + (r - l) //3\n",
    "        mid2 = r - (r - l) //3\n",
    "\n",
    "        # Check if key is present at any mid\n",
    "        if (arr[mid1] == key): \n",
    "            return \"found\"\n",
    "        \n",
    "        if (arr[mid2] == key): \n",
    "            return \"found\"\n",
    "        if (key < arr[mid1]): \n",
    "\n",
    "            # The key lies in between l and mid1\n",
    "            return ternarySearch(l, mid1 - 1, key, arr)\n",
    "        \n",
    "        elif (key > arr[mid2]): \n",
    "\n",
    "           \n",
    "            return ternarySearch(mid2 + 1, r, key, arr)\n",
    "        \n",
    "        else:\n",
    "            return ternarySearch(mid1 + 1, mid2 - 1, key, arr)\n",
    "    return -1\n",
    "result=ternarySearch(0,len(arr)-1,3,arr)\n",
    "print(result)"
   ]
  },
  {
   "cell_type": "code",
   "execution_count": 91,
   "metadata": {},
   "outputs": [
    {
     "name": "stdout",
     "output_type": "stream",
     "text": [
      "found\n"
     ]
    }
   ],
   "source": [
    "import math\n",
    "def jump_search(arr,high,key):\n",
    "    step=math.sqrt(high)\n",
    "    prev=0\n",
    "    while arr[int(min(step,high)-1)]<key:\n",
    "        prev=step\n",
    "        step+=math.sqrt(high)\n",
    "        if prev>=high:\n",
    "            return -1\n",
    "    while arr[int(prev)]<key:\n",
    "\n",
    "        prev+=1\n",
    "        \n",
    "        if prev==min(step, high):\n",
    "            return -1\n",
    "    if arr[int(prev)]==key:\n",
    "            return \"found\"  \n",
    "    return -1\n",
    "        \n",
    "    \n",
    "\n",
    "\n",
    "\n",
    "\n",
    "result=jump_search(arr,len(arr),11)\n",
    "print(result)"
   ]
  },
  {
   "cell_type": "code",
   "execution_count": null,
   "metadata": {},
   "outputs": [],
   "source": []
  }
 ],
 "metadata": {
  "kernelspec": {
   "display_name": "Python 3",
   "language": "python",
   "name": "python3"
  },
  "language_info": {
   "codemirror_mode": {
    "name": "ipython",
    "version": 3
   },
   "file_extension": ".py",
   "mimetype": "text/x-python",
   "name": "python",
   "nbconvert_exporter": "python",
   "pygments_lexer": "ipython3",
   "version": "3.10.12"
  }
 },
 "nbformat": 4,
 "nbformat_minor": 2
}
