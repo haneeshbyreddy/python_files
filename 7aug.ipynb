{
 "cells": [
  {
   "cell_type": "code",
   "execution_count": 15,
   "metadata": {},
   "outputs": [
    {
     "name": "stdout",
     "output_type": "stream",
     "text": [
      "[0, 1, 1, 2, 3, 5, 8, 13, 21, 34]\n"
     ]
    }
   ],
   "source": [
    "def fibnaic(value):\n",
    "    first=0\n",
    "    second=1\n",
    "  \n",
    "    arr=[]\n",
    "    arr.append(first)\n",
    "    arr.append(second)\n",
    "    for i in range(value):\n",
    "        temp=first+second\n",
    "        first=second\n",
    "        second=temp\n",
    "        arr.append(temp)\n",
    "    print(arr)\n",
    "\n",
    "    \n",
    "fibnaic(8)"
   ]
  },
  {
   "cell_type": "code",
   "execution_count": 16,
   "metadata": {},
   "outputs": [
    {
     "name": "stdout",
     "output_type": "stream",
     "text": [
      "0 1\n",
      "1\n",
      "2\n",
      "3\n",
      "5\n",
      "8\n",
      "13\n",
      "21\n"
     ]
    }
   ],
   "source": [
    "\n",
    "def fibnaic(first,second,count=0):\n",
    "    if count>12:\n",
    "        return\n",
    "    count+=1\n",
    "    print(first+second)\n",
    "    fibnaic(second,first+second,count=count+1)\n",
    "print(0,1)\n",
    "fibnaic(0,1)\n"
   ]
  },
  {
   "cell_type": "code",
   "execution_count": 39,
   "metadata": {},
   "outputs": [
    {
     "name": "stdout",
     "output_type": "stream",
     "text": [
      "polindrom\n"
     ]
    }
   ],
   "source": [
    "#polindrome\n",
    "n=101\n",
    "k=0\n",
    "copy=n\n",
    "while copy:\n",
    "    rem=copy%10\n",
    "    k=k*10+rem\n",
    "    copy=copy//10\n",
    "if k==n:\n",
    "    print(\"polindrom\")"
   ]
  },
  {
   "cell_type": "code",
   "execution_count": 40,
   "metadata": {},
   "outputs": [
    {
     "name": "stdout",
     "output_type": "stream",
     "text": [
      "polindrome\n"
     ]
    }
   ],
   "source": [
    "n=\"madam\"\n",
    "length=len(n)\n",
    "for i in range(length):\n",
    "    if n[i]!=n[length-1]:\n",
    "        print(\"not polindrom\")\n",
    "        break\n",
    "    length-=1\n",
    "print(\"polindrome\")\n",
    "\n"
   ]
  },
  {
   "cell_type": "code",
   "execution_count": null,
   "metadata": {},
   "outputs": [],
   "source": []
  }
 ],
 "metadata": {
  "kernelspec": {
   "display_name": "Python 3",
   "language": "python",
   "name": "python3"
  },
  "language_info": {
   "codemirror_mode": {
    "name": "ipython",
    "version": 3
   },
   "file_extension": ".py",
   "mimetype": "text/x-python",
   "name": "python",
   "nbconvert_exporter": "python",
   "pygments_lexer": "ipython3",
   "version": "3.10.12"
  }
 },
 "nbformat": 4,
 "nbformat_minor": 2
}
