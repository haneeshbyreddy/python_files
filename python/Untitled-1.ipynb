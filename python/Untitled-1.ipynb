{
 "cells": [
  {
   "cell_type": "code",
   "execution_count": 2,
   "metadata": {},
   "outputs": [
    {
     "name": "stdout",
     "output_type": "stream",
     "text": [
      "hi\n",
      "good is srivalli \n"
     ]
    }
   ],
   "source": [
    "x=\"srivalli is good\"\n",
    "y=\"\"\n",
    "print(\"hi\")\n",
    "for i in x.split():\n",
    "    y=i+\" \"+y\n",
    "print(y)"
   ]
  },
  {
   "cell_type": "code",
   "execution_count": 3,
   "metadata": {},
   "outputs": [
    {
     "name": "stdout",
     "output_type": "stream",
     "text": [
      "ACDG\n",
      "aBcdEFg\n"
     ]
    }
   ],
   "source": [
    "str1=\"AbCDefG\"\n",
    "upper=\"\"\n",
    "inverse=\"\"\n",
    "for i in str1:\n",
    "    if str.isupper(i):\n",
    "        upper+=i\n",
    "for i in str1:\n",
    "    if str.isupper(i):\n",
    "        inverse+=str.lower(i)\n",
    "    else:\n",
    "        inverse+=str.upper(i)\n",
    "print(upper)\n",
    "\n",
    "print(inverse)"
   ]
  },
  {
   "cell_type": "code",
   "execution_count": 4,
   "metadata": {},
   "outputs": [
    {
     "name": "stdout",
     "output_type": "stream",
     "text": [
      "Main Thread trying to acquire Lock\n",
      "Main Thread trying to acquire Lock Again\n"
     ]
    },
    {
     "data": {
      "text/plain": [
       "True"
      ]
     },
     "execution_count": 4,
     "metadata": {},
     "output_type": "execute_result"
    }
   ],
   "source": [
    "from threading import *\n",
    "l=RLock()\n",
    "print(\"Main Thread trying to acquire Lock\")\n",
    "l.acquire()\n",
    "print(\"Main Thread trying to acquire Lock Again\")\n",
    "l.acquire() "
   ]
  },
  {
   "cell_type": "code",
   "execution_count": 5,
   "metadata": {},
   "outputs": [
    {
     "name": "stdout",
     "output_type": "stream",
     "text": [
      "thread  1  is executing\n",
      "thread  2  is executing\n",
      "thread  3  is executing\n",
      "thread  4  is executing\n",
      "thread  1  is executing\n",
      "thread  5  is executing\n",
      "thread  6  is executing\n",
      "thread  7  is executing\n",
      "thread  8  is executing\n",
      "thread  9thread  2  is executing\n",
      "thread  3  is executing\n",
      "thread  4  is executing\n",
      "thread  5   is executing\n",
      "thread  10  is executing\n",
      "65 is executing\n",
      "thread thread  1  is executing \n",
      "\n",
      "6  is executing\n",
      "thread  thread  2  is executing\n",
      "7  is executing\n",
      "thread  8 thread  is executing\n",
      " 3  is executing\n",
      "thread  4  is executing\n",
      "thread  5  is executing\n",
      "thread  6  is executing\n",
      "thread  7  is executing\n",
      "thread  8  is executing\n",
      "thread  9  is executing\n",
      "thread  10  is executing\n",
      "138\n",
      "thread  1  is executingthread \n",
      "thread   92   is executing is executing\n",
      "\n",
      "thread  thread  3  is executing\n",
      "thread  4  is executing\n",
      "thread  5  is executing\n",
      "thread  6  is executing\n",
      "thread  7  is executing\n",
      "thread  8  is executing\n",
      "thread  9  is executing\n",
      "thread  10  is executing\n",
      "210\n",
      "10  is executing\n",
      "220\n"
     ]
    }
   ],
   "source": [
    "from threading import *\n",
    "l=Semaphore(2)\n",
    "num1=0\n",
    "def thread(num):\n",
    "    global num1\n",
    "    l.acquire()\n",
    "    for i in range(1,num+1):\n",
    "        \n",
    "        print(\"thread \",i,\" is executing\")\n",
    "\n",
    "        num1+=i\n",
    "    l.release()\n",
    "    print(num1)\n",
    "n=10\n",
    "t=Thread(target=thread,args=(n,))\n",
    "t1=Thread(target=thread,args=(n,))\n",
    "t2=Thread(target=thread,args=(n,))\n",
    "t3=Thread(target=thread,args=(n,))\n",
    "t.start()\n",
    "t1.start()\n",
    "t2.start()\n",
    "t3.start()"
   ]
  },
  {
   "cell_type": "code",
   "execution_count": 6,
   "metadata": {},
   "outputs": [
    {
     "name": "stdout",
     "output_type": "stream",
     "text": [
      "Good Evening:Good Evening:"
     ]
    }
   ],
   "source": [
    "from threading import *\n",
    "import time\n",
    "s=Semaphore(2)\n",
    "def wish(name):\n",
    "    s.acquire()\n",
    "    for i in range(10):\n",
    "        print(\"Good Evening:\",end='')\n",
    "        time.sleep(2)\n",
    "        print(name)\n",
    "        s.release()\n",
    "t1=Thread(target=wish,args=(\"Dhoni\",))\n",
    "t2=Thread(target=wish,args=(\"Yuvraj\",))\n",
    "t3=Thread(target=wish,args=(\"Kohli\",))\n",
    "t4=Thread(target=wish,args=(\"Rohit\",))\n",
    "t5=Thread(target=wish,args=(\"Pandya\",))\n",
    "t1.start()\n",
    "t2.start()\n",
    "t3.start()\n",
    "t4.start()\n",
    "t5.start() "
   ]
  },
  {
   "cell_type": "code",
   "execution_count": 7,
   "metadata": {},
   "outputs": [
    {
     "name": "stdout",
     "output_type": "stream",
     "text": [
      "['zentree', 'lab']\n"
     ]
    }
   ],
   "source": [
    "def splits(k):\n",
    "    list1=[]\n",
    "    string=\"\"\n",
    "    global func\n",
    "    for i in func:\n",
    "        if i!=\" \":\n",
    "           string+=i\n",
    "        else:\n",
    "            list1.append(string)\n",
    "            string=\"\"\n",
    "    print(list1)\n",
    "func = \"zentree lab \"\n",
    "k=\" \"\n",
    "splits(k)\n",
    "\n",
    "        \n"
   ]
  },
  {
   "cell_type": "code",
   "execution_count": 8,
   "metadata": {},
   "outputs": [
    {
     "name": "stdout",
     "output_type": "stream",
     "text": [
      "i is my am mon name from city nandyal srivalli\n"
     ]
    }
   ],
   "source": [
    "sen= \"my name is srivalli mon i am from nandyal city\"\n",
    "l=sen.split(\" \")\n",
    "for i in range(len(l)):\n",
    "    for j in range(len(l)):\n",
    "        if len(l[i])<len(l[j]):\n",
    "            l[i],l[j]=l[j],l[i]\n",
    "print(\" \".join(l))"
   ]
  },
  {
   "cell_type": "code",
   "execution_count": 9,
   "metadata": {},
   "outputs": [
    {
     "name": "stdout",
     "output_type": "stream",
     "text": [
      "INTERNET\n"
     ]
    }
   ],
   "source": [
    "s=\"internet\"\n",
    "k=\"\"\n",
    "modified_string=\"\"\n",
    "for i in range(0, len(s)): \n",
    "    ascii = ord(s[i]) \n",
    "    if ascii >= ord('a') and ascii <= ord('z') : \n",
    "            modified_string += chr(ascii-32)\n",
    "             \n",
    "    else:\n",
    "        modified_string += s[i]\n",
    " \n",
    "print(modified_string) \n",
    " \n",
    "\n"
   ]
  },
  {
   "cell_type": "code",
   "execution_count": 10,
   "metadata": {},
   "outputs": [],
   "source": [
    "f=open(\"E:\\\\frnds\\\\file1.txt\",'w')\n",
    "f.write(\"sunny\\n\")\n",
    "f.writelines(\"sony\\n\")\n",
    "f.close()"
   ]
  },
  {
   "cell_type": "code",
   "execution_count": 11,
   "metadata": {},
   "outputs": [
    {
     "name": "stdout",
     "output_type": "stream",
     "text": [
      "sunny\n",
      "sony\n",
      "\n"
     ]
    }
   ],
   "source": [
    "f=open(\"E:\\\\frnds\\\\file1.txt\",'r')\n",
    "data=f.read()\n",
    "f.close()\n",
    "print(data)"
   ]
  },
  {
   "cell_type": "code",
   "execution_count": 12,
   "metadata": {},
   "outputs": [
    {
     "name": "stdout",
     "output_type": "stream",
     "text": [
      "sunny\n"
     ]
    }
   ],
   "source": [
    "#reading only 5 characters\n",
    "f=open(\"E:\\\\frnds\\\\file1.txt\",'r')\n",
    "data=f.read(5)\n",
    "print(data)\n",
    "f.seek(0)\n",
    "f.close()"
   ]
  },
  {
   "cell_type": "code",
   "execution_count": 13,
   "metadata": {},
   "outputs": [
    {
     "name": "stdout",
     "output_type": "stream",
     "text": [
      "sunny\n",
      "\n",
      "sony\n",
      "\n",
      "sony\n",
      "\n",
      "3\n",
      "['sunny\\n', 'sony\\n', 'sony\\n']\n"
     ]
    }
   ],
   "source": [
    "#reading the data line by line\n",
    "f=open(\"E:\\\\frnds\\\\file1.txt\",'a+')\n",
    "#l=\"srivalli is beautyfull\"\n",
    "f.write(\"sony\\n\")\n",
    "f.seek(0)\n",
    "while(True):\n",
    "    line = f.readline()\n",
    "    if not line:\n",
    "        break\n",
    "    else:\n",
    "        print(line)\n",
    "f.seek(0)\n",
    "print(len(f.readlines()))\n",
    "f.seek(0)\n",
    "data=f.readlines()\n",
    "print(data)\n",
    "f.close()"
   ]
  },
  {
   "cell_type": "code",
   "execution_count": 14,
   "metadata": {},
   "outputs": [
    {
     "name": "stdout",
     "output_type": "stream",
     "text": [
      "sun\n",
      "ny\n",
      "\n",
      "sunny\n",
      "sony\n",
      "\n",
      "\n",
      "sony\n",
      "\n"
     ]
    }
   ],
   "source": [
    "f=open(\"E:\\\\frnds\\\\file1.txt\",'r')\n",
    "print(f.read(3))\n",
    "print(f.read(3))\n",
    "f.seek(0)\n",
    "print(f.read(10))\n",
    "print(f.read(1))\n",
    "print(f.read())\n",
    "f.close()"
   ]
  },
  {
   "cell_type": "code",
   "execution_count": 15,
   "metadata": {},
   "outputs": [
    {
     "name": "stdout",
     "output_type": "stream",
     "text": [
      "srivalli\n",
      "supriya\n",
      "are friends\n",
      "['srivalli', 'supriya', 'are friends']\n",
      "30\n"
     ]
    }
   ],
   "source": [
    "with open(\"abc.txt\",\"w+\") as f:\n",
    "    f.write(\"srivalli\\n\")\n",
    "    f.write(\"supriya\")\n",
    "    f.write(\"\\nare friends\")\n",
    "    f.seek(0)\n",
    "    data=f.read()\n",
    "    print(data)\n",
    "    print(data.split(\"\\n\"))\n",
    "    print(f.tell())"
   ]
  },
  {
   "cell_type": "code",
   "execution_count": 16,
   "metadata": {},
   "outputs": [
    {
     "name": "stdout",
     "output_type": "stream",
     "text": [
      "['srivalli\\n', 'supriya\\n', 'are friends']\n",
      "['srivalli', 'supriya', 'are friends']\n",
      "30\n"
     ]
    }
   ],
   "source": [
    "with open(\"file2.txt\",\"w+\") as f:\n",
    "    f.write(\"srivalli\\n\")\n",
    "    f.write(\"supriya\")\n",
    "    f.write(\"\\nare friends\")\n",
    "    f.seek(0)\n",
    "    data=f.readlines()\n",
    "    print(data)\n",
    "    modified_data=[lines.strip(\"\\n\") for lines in data]\n",
    "    print(modified_data)\n",
    "    print(f.tell())"
   ]
  },
  {
   "cell_type": "code",
   "execution_count": 17,
   "metadata": {},
   "outputs": [
    {
     "name": "stdout",
     "output_type": "stream",
     "text": [
      "srivalli\n",
      "supriya\n",
      "are friends\n",
      "['srivalli', 'supriya', 'are friends']\n",
      "30\n"
     ]
    }
   ],
   "source": [
    "with open(\"file3.txt\",\"w+\") as f:\n",
    "    f.write(\"srivalli\\n\")\n",
    "    f.write(\"supriya\")\n",
    "    f.write(\"\\nare friends\")\n",
    "    f.seek(0)\n",
    "    data=f.read()\n",
    "    print(data)\n",
    "    print(data.split(\"\\n\"))\n",
    "    print(f.tell())"
   ]
  },
  {
   "cell_type": "code",
   "execution_count": 18,
   "metadata": {},
   "outputs": [],
   "source": [
    "import re\n",
    "\n",
    "#defining the replace method\n",
    "def replace(filePath, text, subs, flags=0):\n",
    "    with open(file_path, \"r+\") as file:\n",
    "        #read the file contents\n",
    "        file_contents = file.read()\n",
    "        text_pattern = re.compile(re.escape(text), flags)\n",
    "        file_contents = text_pattern.sub(subs, file_contents)\n",
    "        file.seek(0)\n",
    "        file.truncate()\n",
    "        file.write(file_contents)"
   ]
  },
  {
   "cell_type": "code",
   "execution_count": 19,
   "metadata": {},
   "outputs": [
    {
     "data": {
      "text/plain": [
       "'\\n    print(data.split(\"\\n\"))\\n    f.seek(0)\\n    print(f.tell())\\n    f.seek(17)\\n    print(f.tell())\\n     f.write(\"\\nanddd\")\\n    f.seek(0)\\n    print(f.read())\\n    '"
      ]
     },
     "execution_count": 19,
     "metadata": {},
     "output_type": "execute_result"
    }
   ],
   "source": [
    "with open(\"abc.txt\",\"w+\") as f:\n",
    "    f.write(\"srivalli\\n\")\n",
    "    f.write(\"supriya\")\n",
    "    f.write(\"\\nare friends\")\n",
    "    f.seek(0)\n",
    "file_path=\"E:\\\\frnds\\\\abc.txt\"\n",
    "replace(file_path,\"are\",\"and\")\n",
    "'''\n",
    "    print(data.split(\"\\n\"))\n",
    "    f.seek(0)\n",
    "    print(f.tell())\n",
    "    f.seek(17)\n",
    "    print(f.tell())\n",
    "     f.write(\"\\nanddd\")\n",
    "    f.seek(0)\n",
    "    print(f.read())\n",
    "    '''\n",
    "\n"
   ]
  },
  {
   "cell_type": "code",
   "execution_count": 20,
   "metadata": {},
   "outputs": [
    {
     "data": {
      "text/plain": [
       "0"
      ]
     },
     "execution_count": 20,
     "metadata": {},
     "output_type": "execute_result"
    }
   ],
   "source": [
    "f=open(\"abc.txt\",'w+')\n",
    "new_file_content=\"\"\n",
    "for line in f.readlines():\n",
    "    stripped_line=line.strip()\n",
    "    if \"are\" in stripped_line():\n",
    "        stripped_line+=stripped_line.replace(\"are\", \"Ghostbusters\")\n",
    "    new_file_content+=stripped_line+\"\\n\"\n",
    "f.write(new_file_content)"
   ]
  },
  {
   "cell_type": "code",
   "execution_count": 21,
   "metadata": {},
   "outputs": [],
   "source": [
    "# Open the file in 'w+' mode to read and write\n",
    "with open(\"abc.txt\", 'w+') as f:\n",
    "    new_file_content = \"\"\n",
    "    # Read lines from the file\n",
    "    lines = f.readlines()\n",
    "    # Iterate through each line\n",
    "    for line in lines:\n",
    "        stripped_line = line.strip()\n",
    "        # Check if \"are\" is in the line\n",
    "        if \"are\" in stripped_line:\n",
    "            # Replace \"are\" with \"Ghostbusters\"\n",
    "            stripped_line = stripped_line.replace(\"are\", \"Ghostbusters\")\n",
    "        new_file_content += stripped_line + '\\n'  # Add a newline character\n",
    "    # Write the modified content back to the file\n",
    "    f.seek(0)  # Move the file pointer to the beginning\n",
    "    f.write(new_file_content)\n"
   ]
  },
  {
   "cell_type": "code",
   "execution_count": 22,
   "metadata": {},
   "outputs": [],
   "source": [
    "reading_file = open(\"input3.txt\", \"r\")\n",
    "\n",
    "new_file_content = \"\"\n",
    "for line in reading_file:\n",
    "    stripped_line = line.strip()\n",
    "    new_line = stripped_line.replace(\"J\", \"I\")\n",
    "    new_file_content += new_line +\"\\n\"\n",
    "reading_file.close()\n",
    "\n",
    "writing_file = open(\"input3.txt\", \"w\")\n",
    "writing_file.write(new_file_content)\n",
    "writing_file.close()"
   ]
  },
  {
   "cell_type": "code",
   "execution_count": 23,
   "metadata": {},
   "outputs": [
    {
     "name": "stdout",
     "output_type": "stream",
     "text": [
      "srivalli\n",
      "supriya\n",
      "are friends\n",
      "['srivalli', 'supriya', 'are friends']\n",
      "30\n"
     ]
    }
   ],
   "source": [
    "with open(\"abc.txt\",\"w+\") as f:\n",
    "    f.write(\"srivalli\\n\")\n",
    "    f.write(\"supriya\")\n",
    "    f.write(\"\\nare friends\")\n",
    "    f.seek(0)\n",
    "    data=f.read()\n",
    "    print(data)\n",
    "    print(data.split(\"\\n\"))\n",
    "    print(f.tell())"
   ]
  },
  {
   "cell_type": "code",
   "execution_count": 24,
   "metadata": {},
   "outputs": [
    {
     "data": {
      "text/plain": [
       "31"
      ]
     },
     "execution_count": 24,
     "metadata": {},
     "output_type": "execute_result"
    }
   ],
   "source": [
    "f=open(\"abc.txt\",'r')\n",
    "new_file_content=\"\"\n",
    "line=f.readlines()\n",
    "for lines in line:\n",
    "    stripped_line=lines.replace(\"are\",\"and\")\n",
    "    new_file_content+=stripped_line+\"\\n\"\n",
    "f.close()\n",
    "f=open(\"abc.txt\",'w')\n",
    "f.write(new_file_content)"
   ]
  },
  {
   "cell_type": "code",
   "execution_count": 25,
   "metadata": {},
   "outputs": [],
   "source": [
    "f1=open(\"input1.txt\",'r')\n",
    "f2=open(\"input2.txt\",'r')"
   ]
  },
  {
   "cell_type": "code",
   "execution_count": 26,
   "metadata": {},
   "outputs": [
    {
     "name": "stdout",
     "output_type": "stream",
     "text": [
      "['srivalli srivalli valli i am a srivalli\\n', 'teju hi iam srivalli sister\\n', 'bindu hi iam srivalli sister\\n', 'niha hi i am srivalli frnd\\n', 'NIHA']\n",
      "['NIHA\\n', 'ramya\\n', 'lali\\n', 'vinni\\n', 'sivani\\n', 'srivalli srivalli valli i am a srivalli\\n', 'teju hi iam srivalli sister\\n', 'bindu hi iam srivalli sister\\n', 'niha hi i am srivalli frnd\\n']\n"
     ]
    }
   ],
   "source": [
    "f1=open(\"input1.txt\",'r')\n",
    "f2=open(\"input2.txt\",'r')\n",
    "f3=open(\"output.txt\",'w')\n",
    "file1=f1.readlines()\n",
    "file2=f2.readlines()\n",
    "print(file1)\n",
    "print(file2)\n",
    "for i in file1:\n",
    "    i=i.splitlines()\n",
    "    for j in file2:\n",
    "        j=j.splitlines()\n",
    "        if i==j:\n",
    "            if i[0].isalnum():\n",
    "                f3.writelines(i)\n",
    "f3.close()"
   ]
  },
  {
   "cell_type": "code",
   "execution_count": 27,
   "metadata": {},
   "outputs": [
    {
     "name": "stdout",
     "output_type": "stream",
     "text": [
      "N\n",
      "I\n",
      "H\n",
      "A\n",
      "4\n"
     ]
    }
   ],
   "source": [
    "file=open(\"input1.txt\",'r')\n",
    "count=0\n",
    "while(True):\n",
    "    line = file.readline()\n",
    "    if not line:\n",
    "        break\n",
    "    else:\n",
    "        for i in line:\n",
    "            if i >= 'A' and i <= 'Z':\n",
    "                count+=1\n",
    "                print(i)\n",
    "            else:\n",
    "                continue\n",
    "print(count)"
   ]
  },
  {
   "cell_type": "code",
   "execution_count": 28,
   "metadata": {},
   "outputs": [
    {
     "name": "stdout",
     "output_type": "stream",
     "text": [
      "{'s': 10, 'r': 9, 'i': 24, 'v': 7, 'a': 13, 'l': 14, ' ': 19, 'm': 4, '\\n': 4, 't': 3, 'e': 3, 'j': 1, 'u': 2, 'h': 4, 'b': 1, 'n': 3, 'd': 2, 'f': 1, 'N': 1, 'I': 1, 'H': 1, 'A': 1}\n"
     ]
    }
   ],
   "source": [
    "file=open(\"input1.txt\",'r')\n",
    "dict1={}\n",
    "while(True):\n",
    "    line = file.readline()\n",
    "    if not line:\n",
    "        break\n",
    "    else:\n",
    "        for i in line:\n",
    "            \n",
    "            if i in dict1:\n",
    "                dict1[i]+=1\n",
    "\n",
    "            else:\n",
    "                dict1[i]=1\n",
    "print(dict1)"
   ]
  },
  {
   "cell_type": "code",
   "execution_count": 29,
   "metadata": {},
   "outputs": [
    {
     "name": "stdout",
     "output_type": "stream",
     "text": [
      "{'s': 10, 'r': 9, 'i': 24, 'v': 7, 'a': 13, 'l': 14, ' ': 19, 'm': 4, '\\n': 4, 't': 3, 'e': 3, 'j': 1, 'u': 2, 'h': 4, 'b': 1, 'n': 3, 'd': 2, 'f': 1, 'N': 1, 'I': 1, 'H': 1, 'A': 1}\n"
     ]
    }
   ],
   "source": [
    "file=open(\"input1.txt\",'r')\n",
    "dict1={}\n",
    "line = file.readlines()\n",
    "for i in line:\n",
    "    for j in i:\n",
    "        if j in dict1:\n",
    "            dict1[j]+=1\n",
    "        else:\n",
    "            dict1[j]=1\n",
    "print(dict1)"
   ]
  },
  {
   "cell_type": "code",
   "execution_count": 30,
   "metadata": {},
   "outputs": [
    {
     "name": "stdout",
     "output_type": "stream",
     "text": [
      "NIHA\n",
      "\n",
      "ramya\n",
      "\n",
      "lali\n",
      "\n",
      "vinni\n",
      "\n",
      "sivani\n",
      "\n"
     ]
    }
   ],
   "source": [
    "file1=open(\"input1.txt\",'r')\n",
    "file2=open(\"input2.txt\",'r')\n",
    "file3=open(\"output.txt\",'w')\n",
    "list1=file1.readlines()\n",
    "list2=file2.readlines()\n",
    "for i,j in zip(range(len(list1)),range(len(list2))):\n",
    "    innerlist1=list1[i].strip(\" \")\n",
    "    innerlist2=list2[j].strip(\" \")\n",
    "    for k in innerlist2.split(\" \"):\n",
    "        print(k)\n",
    "        \n",
    "      \n"
   ]
  },
  {
   "cell_type": "code",
   "execution_count": null,
   "metadata": {},
   "outputs": [],
   "source": []
  },
  {
   "cell_type": "code",
   "execution_count": 32,
   "metadata": {},
   "outputs": [
    {
     "data": {
      "text/plain": [
       "array([1, 1, 1, 1])"
      ]
     },
     "execution_count": 32,
     "metadata": {},
     "output_type": "execute_result"
    }
   ],
   "source": [
    "import numpy as np\n",
    "arr=np.array([1,1,1,1])\n",
    "arr"
   ]
  },
  {
   "cell_type": "code",
   "execution_count": null,
   "metadata": {},
   "outputs": [],
   "source": []
  }
 ],
 "metadata": {
  "kernelspec": {
   "display_name": "py38",
   "language": "python",
   "name": "python3"
  },
  "language_info": {
   "codemirror_mode": {
    "name": "ipython",
    "version": 3
   },
   "file_extension": ".py",
   "mimetype": "text/x-python",
   "name": "python",
   "nbconvert_exporter": "python",
   "pygments_lexer": "ipython3",
   "version": "3.9.7"
  }
 },
 "nbformat": 4,
 "nbformat_minor": 2
}
