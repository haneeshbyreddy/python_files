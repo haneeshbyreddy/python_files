{
 "cells": [
  {
   "cell_type": "code",
   "execution_count": 3,
   "metadata": {},
   "outputs": [],
   "source": [
    "import matplotlib.pyplot as plt\n",
    "import seaborn as sns\n",
    "import numpy as np\n",
    "import math\n",
    "import pandas as pd\n",
    "import librosa\n",
    "import sounddevice as sd\n",
    "sns.set()\n",
    "from matplotlib import rcParams\n",
    "rcParams['figure.figsize'] = 11.7,8.27"
   ]
  },
  {
   "cell_type": "code",
   "execution_count": 4,
   "metadata": {},
   "outputs": [],
   "source": [
    "class RLS:\n",
    "    def __init__(self, num_vars, lam, delta):\n",
    "        '''\n",
    "        num_vars: number of variables including constant\n",
    "        lam: forgetting factor, usually very close to 1.\n",
    "        '''\n",
    "        self.num_vars = num_vars\n",
    "        \n",
    "        # delta controls the initial state.\n",
    "        self.A = delta*np.matrix(np.identity(self.num_vars))\n",
    "        self.w = np.matrix(np.zeros(self.num_vars))\n",
    "        self.w = self.w.reshape(self.w.shape[1],1)\n",
    "        \n",
    "        # Variables needed for add_obs\n",
    "        self.lam_inv = lam**(-1)\n",
    "        self.sqrt_lam_inv = math.sqrt(self.lam_inv)\n",
    "        \n",
    "        # A priori error\n",
    "        self.a_priori_error = 0\n",
    "        \n",
    "        # Count of number of observations added\n",
    "        self.num_obs = 0\n",
    "\n",
    "    def add_obs(self, x, t):\n",
    "        '''\n",
    "        Add the observation x with label t.\n",
    "        x is a column vector as a numpy matrix\n",
    "        t is a real scalar\n",
    "        '''            \n",
    "        z = self.lam_inv*self.A*x\n",
    "        alpha = float((1 + x.T*z)**(-1))\n",
    "        self.a_priori_error = float(t - self.w.T*x)\n",
    "        self.w = self.w + (t-alpha*float(x.T*(self.w+t*z)))*z\n",
    "        self.A -= alpha*z*z.T\n",
    "        self.num_obs += 1\n",
    "        \n",
    "    def fit(self, X, y):\n",
    "        '''\n",
    "        Fit a model to X,y.\n",
    "        X and y are numpy arrays.\n",
    "        Individual observations in X should have a prepended 1 for constant coefficient.\n",
    "        '''\n",
    "        for i in range(len(X)):\n",
    "            x = np.transpose(np.matrix(X[i]))\n",
    "            self.add_obs(x,y[i])\n",
    "\n",
    "\n",
    "    def get_error(self):\n",
    "        '''\n",
    "        Finds the a priori (instantaneous) error. \n",
    "        Does not calculate the cumulative effect\n",
    "        of round-off errors.\n",
    "        '''\n",
    "        return self.a_priori_error\n",
    "    \n",
    "    def predict(self, x):\n",
    "        '''\n",
    "        Predict the value of observation x. x should be a numpy matrix (col vector)\n",
    "        '''\n",
    "        return float(self.w.T*x)"
   ]
  },
  {
   "cell_type": "code",
   "execution_count": 7,
   "metadata": {},
   "outputs": [
    {
     "name": "stderr",
     "output_type": "stream",
     "text": [
      "C:\\Users\\sriva\\AppData\\Local\\Temp\\ipykernel_21844\\3084734407.py:22: DeprecationWarning: Conversion of an array with ndim > 0 to a scalar is deprecated, and will error in future. Ensure you extract a single element from your array before performing this operation. (Deprecated NumPy 1.25.)\n",
      "  pred_y.append(float(x*LS.w))\n",
      "C:\\Users\\sriva\\AppData\\Local\\Temp\\ipykernel_21844\\2934825205.py:31: DeprecationWarning: Conversion of an array with ndim > 0 to a scalar is deprecated, and will error in future. Ensure you extract a single element from your array before performing this operation. (Deprecated NumPy 1.25.)\n",
      "  alpha = float((1 + x.T*z)**(-1))\n",
      "C:\\Users\\sriva\\AppData\\Local\\Temp\\ipykernel_21844\\2934825205.py:32: DeprecationWarning: Conversion of an array with ndim > 0 to a scalar is deprecated, and will error in future. Ensure you extract a single element from your array before performing this operation. (Deprecated NumPy 1.25.)\n",
      "  self.a_priori_error = float(t - self.w.T*x)\n",
      "C:\\Users\\sriva\\AppData\\Local\\Temp\\ipykernel_21844\\2934825205.py:33: DeprecationWarning: Conversion of an array with ndim > 0 to a scalar is deprecated, and will error in future. Ensure you extract a single element from your array before performing this operation. (Deprecated NumPy 1.25.)\n",
      "  self.w = self.w + (t-alpha*float(x.T*(self.w+t*z)))*z\n"
     ]
    },
    {
     "name": "stdout",
     "output_type": "stream",
     "text": [
      "[[ 4.35957446e-02]\n",
      " [-2.83953916e-03]\n",
      " [ 8.94498236e-05]]\n"
     ]
    },
    {
     "ename": "ValueError",
     "evalue": "x and y must have same first dimension, but have shapes (40,) and (1,)",
     "output_type": "error",
     "traceback": [
      "\u001b[1;31m---------------------------------------------------------------------------\u001b[0m",
      "\u001b[1;31mValueError\u001b[0m                                Traceback (most recent call last)",
      "Cell \u001b[1;32mIn[7], line 26\u001b[0m\n\u001b[0;32m     24\u001b[0m \u001b[38;5;28mprint\u001b[39m(LS\u001b[38;5;241m.\u001b[39mw)\n\u001b[0;32m     25\u001b[0m \u001b[38;5;66;03m# plot the predicted values against the non-noisy output\u001b[39;00m\n\u001b[1;32m---> 26\u001b[0m ax \u001b[38;5;241m=\u001b[39m \u001b[43mplt\u001b[49m\u001b[38;5;241;43m.\u001b[39;49m\u001b[43mplot\u001b[49m\u001b[43m(\u001b[49m\u001b[43mpred_x\u001b[49m\u001b[43m,\u001b[49m\u001b[43m \u001b[49m\u001b[43mLS\u001b[49m\u001b[43m)\u001b[49m\n\u001b[0;32m     27\u001b[0m plt\u001b[38;5;241m.\u001b[39mshow()\n",
      "File \u001b[1;32mc:\\Users\\sriva\\AppData\\Local\\Programs\\Python\\Python312\\Lib\\site-packages\\matplotlib\\pyplot.py:3590\u001b[0m, in \u001b[0;36mplot\u001b[1;34m(scalex, scaley, data, *args, **kwargs)\u001b[0m\n\u001b[0;32m   3582\u001b[0m \u001b[38;5;129m@_copy_docstring_and_deprecators\u001b[39m(Axes\u001b[38;5;241m.\u001b[39mplot)\n\u001b[0;32m   3583\u001b[0m \u001b[38;5;28;01mdef\u001b[39;00m \u001b[38;5;21mplot\u001b[39m(\n\u001b[0;32m   3584\u001b[0m     \u001b[38;5;241m*\u001b[39margs: \u001b[38;5;28mfloat\u001b[39m \u001b[38;5;241m|\u001b[39m ArrayLike \u001b[38;5;241m|\u001b[39m \u001b[38;5;28mstr\u001b[39m,\n\u001b[1;32m   (...)\u001b[0m\n\u001b[0;32m   3588\u001b[0m     \u001b[38;5;241m*\u001b[39m\u001b[38;5;241m*\u001b[39mkwargs,\n\u001b[0;32m   3589\u001b[0m ) \u001b[38;5;241m-\u001b[39m\u001b[38;5;241m>\u001b[39m \u001b[38;5;28mlist\u001b[39m[Line2D]:\n\u001b[1;32m-> 3590\u001b[0m     \u001b[38;5;28;01mreturn\u001b[39;00m \u001b[43mgca\u001b[49m\u001b[43m(\u001b[49m\u001b[43m)\u001b[49m\u001b[38;5;241;43m.\u001b[39;49m\u001b[43mplot\u001b[49m\u001b[43m(\u001b[49m\n\u001b[0;32m   3591\u001b[0m \u001b[43m        \u001b[49m\u001b[38;5;241;43m*\u001b[39;49m\u001b[43margs\u001b[49m\u001b[43m,\u001b[49m\n\u001b[0;32m   3592\u001b[0m \u001b[43m        \u001b[49m\u001b[43mscalex\u001b[49m\u001b[38;5;241;43m=\u001b[39;49m\u001b[43mscalex\u001b[49m\u001b[43m,\u001b[49m\n\u001b[0;32m   3593\u001b[0m \u001b[43m        \u001b[49m\u001b[43mscaley\u001b[49m\u001b[38;5;241;43m=\u001b[39;49m\u001b[43mscaley\u001b[49m\u001b[43m,\u001b[49m\n\u001b[0;32m   3594\u001b[0m \u001b[43m        \u001b[49m\u001b[38;5;241;43m*\u001b[39;49m\u001b[38;5;241;43m*\u001b[39;49m\u001b[43m(\u001b[49m\u001b[43m{\u001b[49m\u001b[38;5;124;43m\"\u001b[39;49m\u001b[38;5;124;43mdata\u001b[39;49m\u001b[38;5;124;43m\"\u001b[39;49m\u001b[43m:\u001b[49m\u001b[43m \u001b[49m\u001b[43mdata\u001b[49m\u001b[43m}\u001b[49m\u001b[43m \u001b[49m\u001b[38;5;28;43;01mif\u001b[39;49;00m\u001b[43m \u001b[49m\u001b[43mdata\u001b[49m\u001b[43m \u001b[49m\u001b[38;5;129;43;01mis\u001b[39;49;00m\u001b[43m \u001b[49m\u001b[38;5;129;43;01mnot\u001b[39;49;00m\u001b[43m \u001b[49m\u001b[38;5;28;43;01mNone\u001b[39;49;00m\u001b[43m \u001b[49m\u001b[38;5;28;43;01melse\u001b[39;49;00m\u001b[43m \u001b[49m\u001b[43m{\u001b[49m\u001b[43m}\u001b[49m\u001b[43m)\u001b[49m\u001b[43m,\u001b[49m\n\u001b[0;32m   3595\u001b[0m \u001b[43m        \u001b[49m\u001b[38;5;241;43m*\u001b[39;49m\u001b[38;5;241;43m*\u001b[39;49m\u001b[43mkwargs\u001b[49m\u001b[43m,\u001b[49m\n\u001b[0;32m   3596\u001b[0m \u001b[43m    \u001b[49m\u001b[43m)\u001b[49m\n",
      "File \u001b[1;32mc:\\Users\\sriva\\AppData\\Local\\Programs\\Python\\Python312\\Lib\\site-packages\\matplotlib\\axes\\_axes.py:1724\u001b[0m, in \u001b[0;36mAxes.plot\u001b[1;34m(self, scalex, scaley, data, *args, **kwargs)\u001b[0m\n\u001b[0;32m   1481\u001b[0m \u001b[38;5;250m\u001b[39m\u001b[38;5;124;03m\"\"\"\u001b[39;00m\n\u001b[0;32m   1482\u001b[0m \u001b[38;5;124;03mPlot y versus x as lines and/or markers.\u001b[39;00m\n\u001b[0;32m   1483\u001b[0m \n\u001b[1;32m   (...)\u001b[0m\n\u001b[0;32m   1721\u001b[0m \u001b[38;5;124;03m(``'green'``) or hex strings (``'#008000'``).\u001b[39;00m\n\u001b[0;32m   1722\u001b[0m \u001b[38;5;124;03m\"\"\"\u001b[39;00m\n\u001b[0;32m   1723\u001b[0m kwargs \u001b[38;5;241m=\u001b[39m cbook\u001b[38;5;241m.\u001b[39mnormalize_kwargs(kwargs, mlines\u001b[38;5;241m.\u001b[39mLine2D)\n\u001b[1;32m-> 1724\u001b[0m lines \u001b[38;5;241m=\u001b[39m [\u001b[38;5;241m*\u001b[39m\u001b[38;5;28mself\u001b[39m\u001b[38;5;241m.\u001b[39m_get_lines(\u001b[38;5;28mself\u001b[39m, \u001b[38;5;241m*\u001b[39margs, data\u001b[38;5;241m=\u001b[39mdata, \u001b[38;5;241m*\u001b[39m\u001b[38;5;241m*\u001b[39mkwargs)]\n\u001b[0;32m   1725\u001b[0m \u001b[38;5;28;01mfor\u001b[39;00m line \u001b[38;5;129;01min\u001b[39;00m lines:\n\u001b[0;32m   1726\u001b[0m     \u001b[38;5;28mself\u001b[39m\u001b[38;5;241m.\u001b[39madd_line(line)\n",
      "File \u001b[1;32mc:\\Users\\sriva\\AppData\\Local\\Programs\\Python\\Python312\\Lib\\site-packages\\matplotlib\\axes\\_base.py:303\u001b[0m, in \u001b[0;36m_process_plot_var_args.__call__\u001b[1;34m(self, axes, data, *args, **kwargs)\u001b[0m\n\u001b[0;32m    301\u001b[0m     this \u001b[38;5;241m+\u001b[39m\u001b[38;5;241m=\u001b[39m args[\u001b[38;5;241m0\u001b[39m],\n\u001b[0;32m    302\u001b[0m     args \u001b[38;5;241m=\u001b[39m args[\u001b[38;5;241m1\u001b[39m:]\n\u001b[1;32m--> 303\u001b[0m \u001b[38;5;28;01myield from\u001b[39;00m \u001b[38;5;28;43mself\u001b[39;49m\u001b[38;5;241;43m.\u001b[39;49m\u001b[43m_plot_args\u001b[49m\u001b[43m(\u001b[49m\n\u001b[0;32m    304\u001b[0m \u001b[43m    \u001b[49m\u001b[43maxes\u001b[49m\u001b[43m,\u001b[49m\u001b[43m \u001b[49m\u001b[43mthis\u001b[49m\u001b[43m,\u001b[49m\u001b[43m \u001b[49m\u001b[43mkwargs\u001b[49m\u001b[43m,\u001b[49m\u001b[43m \u001b[49m\u001b[43mambiguous_fmt_datakey\u001b[49m\u001b[38;5;241;43m=\u001b[39;49m\u001b[43mambiguous_fmt_datakey\u001b[49m\u001b[43m)\u001b[49m\n",
      "File \u001b[1;32mc:\\Users\\sriva\\AppData\\Local\\Programs\\Python\\Python312\\Lib\\site-packages\\matplotlib\\axes\\_base.py:499\u001b[0m, in \u001b[0;36m_process_plot_var_args._plot_args\u001b[1;34m(self, axes, tup, kwargs, return_kwargs, ambiguous_fmt_datakey)\u001b[0m\n\u001b[0;32m    496\u001b[0m     axes\u001b[38;5;241m.\u001b[39myaxis\u001b[38;5;241m.\u001b[39mupdate_units(y)\n\u001b[0;32m    498\u001b[0m \u001b[38;5;28;01mif\u001b[39;00m x\u001b[38;5;241m.\u001b[39mshape[\u001b[38;5;241m0\u001b[39m] \u001b[38;5;241m!=\u001b[39m y\u001b[38;5;241m.\u001b[39mshape[\u001b[38;5;241m0\u001b[39m]:\n\u001b[1;32m--> 499\u001b[0m     \u001b[38;5;28;01mraise\u001b[39;00m \u001b[38;5;167;01mValueError\u001b[39;00m(\u001b[38;5;124mf\u001b[39m\u001b[38;5;124m\"\u001b[39m\u001b[38;5;124mx and y must have same first dimension, but \u001b[39m\u001b[38;5;124m\"\u001b[39m\n\u001b[0;32m    500\u001b[0m                      \u001b[38;5;124mf\u001b[39m\u001b[38;5;124m\"\u001b[39m\u001b[38;5;124mhave shapes \u001b[39m\u001b[38;5;132;01m{\u001b[39;00mx\u001b[38;5;241m.\u001b[39mshape\u001b[38;5;132;01m}\u001b[39;00m\u001b[38;5;124m and \u001b[39m\u001b[38;5;132;01m{\u001b[39;00my\u001b[38;5;241m.\u001b[39mshape\u001b[38;5;132;01m}\u001b[39;00m\u001b[38;5;124m\"\u001b[39m)\n\u001b[0;32m    501\u001b[0m \u001b[38;5;28;01mif\u001b[39;00m x\u001b[38;5;241m.\u001b[39mndim \u001b[38;5;241m>\u001b[39m \u001b[38;5;241m2\u001b[39m \u001b[38;5;129;01mor\u001b[39;00m y\u001b[38;5;241m.\u001b[39mndim \u001b[38;5;241m>\u001b[39m \u001b[38;5;241m2\u001b[39m:\n\u001b[0;32m    502\u001b[0m     \u001b[38;5;28;01mraise\u001b[39;00m \u001b[38;5;167;01mValueError\u001b[39;00m(\u001b[38;5;124mf\u001b[39m\u001b[38;5;124m\"\u001b[39m\u001b[38;5;124mx and y can be no greater than 2D, but have \u001b[39m\u001b[38;5;124m\"\u001b[39m\n\u001b[0;32m    503\u001b[0m                      \u001b[38;5;124mf\u001b[39m\u001b[38;5;124m\"\u001b[39m\u001b[38;5;124mshapes \u001b[39m\u001b[38;5;132;01m{\u001b[39;00mx\u001b[38;5;241m.\u001b[39mshape\u001b[38;5;132;01m}\u001b[39;00m\u001b[38;5;124m and \u001b[39m\u001b[38;5;132;01m{\u001b[39;00my\u001b[38;5;241m.\u001b[39mshape\u001b[38;5;132;01m}\u001b[39;00m\u001b[38;5;124m\"\u001b[39m)\n",
      "\u001b[1;31mValueError\u001b[0m: x and y must have same first dimension, but have shapes (40,) and (1,)"
     ]
    },
    {
     "data": {
      "image/png": "[encoded data removed]",
      "text/plain": [
       "<Figure size 1170x827 with 1 Axes>"
      ]
     },
     "metadata": {},
     "output_type": "display_data"
    }
   ],
   "source": [
    "\n",
    "\n",
    "# Load the audio signal\n",
    "audio_file = r\"E:\\frnds\\python\\clean_speech\\harvard.wav\"\n",
    "audio_signal, sample_rate = librosa.load(audio_file, sr=None)\n",
    "\n",
    "# Generate Gaussian noise with the same length as the audio signal\n",
    "noise = 0.05 * np.random.randn(len(audio_signal))\n",
    "\n",
    "# Add noise to the audio signal\n",
    "noisy_input_signal = audio_signal + noise\n",
    "noisy_y = noisy_input_signal + noise\n",
    "lam = 0.98\n",
    "LS = RLS(3,lam,1)\n",
    "# Not using the RLS.fit function because I want to remember all the predicted values\n",
    "pred_x = []\n",
    "pred_y = []\n",
    "for i in range(len(audio_file)):\n",
    "    x = np.matrix(np.zeros((1,3)))\n",
    "    x[0,0] = 1\n",
    "    x[0,1] = i\n",
    "    x[0,2] = i**2\n",
    "    pred_x.append(i)\n",
    "    pred_y.append(float(x*LS.w))\n",
    "    LS.add_obs(x.T,noisy_y[i])\n",
    "print(LS.w)\n",
    "# plot the predicted values against the non-noisy output\n",
    "ax = plt.plot(pred_x, LS)\n",
    "plt.show()"
   ]
  },
  {
   "cell_type": "code",
   "execution_count": 7,
   "metadata": {},
   "outputs": [
    {
     "name": "stderr",
     "output_type": "stream",
     "text": [
      "C:\\Users\\sriva\\AppData\\Local\\Temp\\ipykernel_29448\\52491167.py:25: DeprecationWarning: Conversion of an array with ndim > 0 to a scalar is deprecated, and will error in future. Ensure you extract a single element from your array before performing this operation. (Deprecated NumPy 1.25.)\n",
      "  pred_y.append(float(x.T * LS.w))\n",
      "C:\\Users\\sriva\\AppData\\Local\\Temp\\ipykernel_29448\\4020529062.py:17: DeprecationWarning: Conversion of an array with ndim > 0 to a scalar is deprecated, and will error in future. Ensure you extract a single element from your array before performing this operation. (Deprecated NumPy 1.25.)\n",
      "  alpha = float((1 + x.T * z)**(-1))\n",
      "C:\\Users\\sriva\\AppData\\Local\\Temp\\ipykernel_29448\\4020529062.py:18: DeprecationWarning: Conversion of an array with ndim > 0 to a scalar is deprecated, and will error in future. Ensure you extract a single element from your array before performing this operation. (Deprecated NumPy 1.25.)\n",
      "  self.a_priori_error = float(t - self.w.T * x)\n",
      "C:\\Users\\sriva\\AppData\\Local\\Temp\\ipykernel_29448\\4020529062.py:19: DeprecationWarning: Conversion of an array with ndim > 0 to a scalar is deprecated, and will error in future. Ensure you extract a single element from your array before performing this operation. (Deprecated NumPy 1.25.)\n",
      "  self.w = self.w + (t - alpha * float(x.T * (self.w + t * z))) * z\n"
     ]
    },
    {
     "name": "stdout",
     "output_type": "stream",
     "text": [
      "Playing original signal...\n",
      "Playing noisy input signal...\n"
     ]
    },
    {
     "ename": "TypeError",
     "evalue": "float() argument must be a string or a real number, not 'RLS'",
     "output_type": "error",
     "traceback": [
      "\u001b[1;31m---------------------------------------------------------------------------\u001b[0m",
      "\u001b[1;31mTypeError\u001b[0m                                 Traceback (most recent call last)",
      "Cell \u001b[1;32mIn[7], line 39\u001b[0m\n\u001b[0;32m     34\u001b[0m sd\u001b[38;5;241m.\u001b[39mwait()\n\u001b[0;32m     36\u001b[0m \u001b[38;5;66;03m# Play filtered output signal\u001b[39;00m\n\u001b[0;32m     37\u001b[0m \n\u001b[0;32m     38\u001b[0m \u001b[38;5;66;03m# Convert the output data to a NumPy array with a compatible data type\u001b[39;00m\n\u001b[1;32m---> 39\u001b[0m output_array \u001b[38;5;241m=\u001b[39m \u001b[43mnp\u001b[49m\u001b[38;5;241;43m.\u001b[39;49m\u001b[43marray\u001b[49m\u001b[43m(\u001b[49m\u001b[43mLS\u001b[49m\u001b[43m,\u001b[49m\u001b[43m \u001b[49m\u001b[43mdtype\u001b[49m\u001b[38;5;241;43m=\u001b[39;49m\u001b[43mnp\u001b[49m\u001b[38;5;241;43m.\u001b[39;49m\u001b[43mfloat32\u001b[49m\u001b[43m)\u001b[49m\n\u001b[0;32m     41\u001b[0m \u001b[38;5;66;03m# Assuming sample_rate is defined elsewhere\u001b[39;00m\n\u001b[0;32m     42\u001b[0m \u001b[38;5;66;03m# Play the converted array using sounddevice\u001b[39;00m\n\u001b[0;32m     43\u001b[0m sd\u001b[38;5;241m.\u001b[39mplay(output_array, sample_rate)\n",
      "\u001b[1;31mTypeError\u001b[0m: float() argument must be a string or a real number, not 'RLS'"
     ]
    }
   ],
   "source": [
    "\n",
    "# Your audio processing code\n",
    "audio_file = r\"E:\\frnds\\python\\clean_speech\\harvard.wav\"\n",
    "audio_signal, sample_rate = librosa.load(audio_file, sr=None)\n",
    "noise = 0.05 * np.random.randn(len(audio_signal))\n",
    "noisy_input_signal = audio_signal + noise\n",
    "noisy_y = noisy_input_signal + noise\n",
    "\n",
    "# Parameters\n",
    "num_vars = 3\n",
    "lam = 0.98\n",
    "delta = 1\n",
    "\n",
    "# Initialize RLS filter\n",
    "LS = RLS(num_vars, lam, delta)\n",
    "\n",
    "# Add observations and perform predictions\n",
    "pred_x = []\n",
    "pred_y = []\n",
    "for i in range(len(audio_signal)):\n",
    "    x = np.matrix(np.zeros((num_vars, 1)))\n",
    "    x[0, 0] = 1\n",
    "    x[1, 0] = i\n",
    "    x[2, 0] = i**2\n",
    "    pred_x.append(i)\n",
    "    pred_y.append(float(x.T * LS.w))\n",
    "    LS.add_obs(x, noisy_y[i])\n",
    "print(\"Playing original signal...\")\n",
    "sd.play(audio_signal, sample_rate)\n",
    "sd.wait()\n",
    "\n",
    "# Play noisy input signal\n",
    "print(\"Playing noisy input signal...\")\n",
    "sd.play(noisy_input_signal, sample_rate)\n",
    "sd.wait()\n",
    "\n",
    "# Play filtered output signal\n",
    "\n",
    "# Convert the output data to a NumPy array with a compatible data type\n",
    "output_array = np.array(LS, dtype=np.float32)\n",
    "\n",
    "# Assuming sample_rate is defined elsewhere\n",
    "# Play the converted array using sounddevice\n",
    "sd.play(output_array, sample_rate)\n",
    "sd.wait()\n",
    "\n",
    "# Plotting\n",
    "plt.plot(pred_x, pred_y)\n",
    "plt.xlabel('Sample')\n",
    "plt.ylabel('Amplitude')\n",
    "plt.title('RLS Prediction')\n",
    "plt.grid(True)\n",
    "plt.show()\n"
   ]
  },
  {
   "cell_type": "code",
   "execution_count": null,
   "metadata": {},
   "outputs": [],
   "source": []
  }
 ],
 "metadata": {
  "kernelspec": {
   "display_name": "base",
   "language": "python",
   "name": "python3"
  },
  "language_info": {
   "codemirror_mode": {
    "name": "ipython",
    "version": 3
   },
   "file_extension": ".py",
   "mimetype": "text/x-python",
   "name": "python",
   "nbconvert_exporter": "python",
   "pygments_lexer": "ipython3",
   "version": "3.12.1"
  }
 },
 "nbformat": 4,
 "nbformat_minor": 2
}
