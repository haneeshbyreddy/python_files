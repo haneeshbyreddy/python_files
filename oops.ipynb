{
 "cells": [
  {
   "cell_type": "code",
   "execution_count": 22,
   "metadata": {},
   "outputs": [
    {
     "name": "stdout",
     "output_type": "stream",
     "text": [
      "10\n",
      "30\n",
      "20\n",
      "130\n",
      "130\n",
      "60\n"
     ]
    }
   ],
   "source": [
    "#creating a class and object and accessing the variable from one fucntion to another fucntion\n",
    "class myclass:\n",
    "    x=30\n",
    "    def __init__(self):\n",
    "        self.x=10\n",
    "    def myfunction(self):\n",
    "        self.x+=10\n",
    "        myclass.x+=30\n",
    "        print(self.x)\n",
    "    def myanother_function(self):\n",
    "        self.myfunction()\n",
    "        self.x1=30\n",
    "        self.x=100+self.x1\n",
    "        print(self.x)\n",
    "obj=myclass()\n",
    "print(obj.x)\n",
    "print(myclass.x)\n",
    "obj.myanother_function()\n",
    "print(obj.x)\n",
    "print(myclass.x)"
   ]
  },
  {
   "cell_type": "code",
   "execution_count": 26,
   "metadata": {},
   "outputs": [
    {
     "name": "stdout",
     "output_type": "stream",
     "text": [
      "11\n",
      "336\n"
     ]
    }
   ],
   "source": [
    "#polymorphisma\n",
    "#overlooading\n",
    "class overloading_class:\n",
    "    def function(self,x,y,z=None):\n",
    "        if z is None:\n",
    "            return x+y\n",
    "        else:\n",
    "            return x*y*z\n",
    "object=overloading_class()\n",
    "print(object.function(5,6))\n",
    "print(object.function(6,7,8))"
   ]
  },
  {
   "cell_type": "code",
   "execution_count": 36,
   "metadata": {},
   "outputs": [
    {
     "name": "stdout",
     "output_type": "stream",
     "text": [
      "150\n"
     ]
    }
   ],
   "source": [
    "#inheritance\n",
    "class parent:\n",
    "    def __init__(self,x,y):\n",
    "        self.x1=x\n",
    "        self.x2=y\n",
    "class child(parent):\n",
    "    def __init__(self,x,y):\n",
    "        super().__init__(x,y)\n",
    "        self.x2+=self.x1\n",
    "        self.x2+=self.x1\n",
    "object_inhe=child(50,50)\n",
    "print(object_inhe.x2)\n"
   ]
  },
  {
   "cell_type": "code",
   "execution_count": 68,
   "metadata": {},
   "outputs": [
    {
     "name": "stdout",
     "output_type": "stream",
     "text": [
      "90 89\n",
      "90\n"
     ]
    }
   ],
   "source": [
    "class parent:\n",
    "    def __init__(self,x,y):\n",
    "        self.x1=x\n",
    "        self.x2=y\n",
    "        print(x,y)\n",
    "class child1:\n",
    "    def __init__(self,x,y):\n",
    "        self.x3=x\n",
    "        self.x4=y\n",
    "        print(self.x3)\n",
    "class child2(parent,child1):\n",
    "    def __init__(self, x, y):\n",
    "        super().__init__(x, y)\n",
    "        child1.__init__(self,x,y)\n",
    "        self.x3+=50\n",
    "\n",
    "object=child2(90,89)\n"
   ]
  },
  {
   "cell_type": "code",
   "execution_count": 46,
   "metadata": {},
   "outputs": [
    {
     "name": "stdout",
     "output_type": "stream",
     "text": [
      "this is the test 3\n",
      "this is the test 4\n",
      "this is the test 6\n"
     ]
    }
   ],
   "source": [
    "class test:\n",
    "    def a(self,b):\n",
    "        \n",
    "        print('this is the test',b)\n",
    "class test1:\n",
    "    def a(self,c):\n",
    "        print('this is the test1',c)\n",
    "class test3:\n",
    "    def a(self,d):\n",
    "        print(\"this is the gtest2\",d)\n",
    "class test2(test,test1,test3):\n",
    "    def __init__(self):\n",
    "        super().a(3)\n",
    "        super().a(4)\n",
    "        super().a(6)\n",
    "\n",
    "object=test2()"
   ]
  },
  {
   "cell_type": "code",
   "execution_count": 45,
   "metadata": {},
   "outputs": [
    {
     "name": "stdout",
     "output_type": "stream",
     "text": [
      "this is the test1 3\n",
      "this is the gtest2 4\n",
      "this is the test 6\n"
     ]
    }
   ],
   "source": [
    "class test:\n",
    "    def a(self,word):\n",
    "        \n",
    "        print('this is the test',word)\n",
    "class test1:\n",
    "    def b(self,call):\n",
    "        print('this is the test1',call)\n",
    "class test3:\n",
    "    def c(self,doll):\n",
    "        print(\"this is the gtest2\",doll)\n",
    "class test2(test1,test,test3):\n",
    "    def __init__(self):\n",
    "        super().b(3)\n",
    "        super().c(4)\n",
    "        super().a(6)\n",
    "object=test2()"
   ]
  },
  {
   "cell_type": "code",
   "execution_count": 54,
   "metadata": {},
   "outputs": [
    {
     "name": "stdout",
     "output_type": "stream",
     "text": [
      "this is the test 3\n",
      "this is the gtest2 4\n",
      "this is the test1 6\n"
     ]
    }
   ],
   "source": [
    "class test:\n",
    "    def c(self,b):\n",
    "        \n",
    "        print('this is the test',b)\n",
    "class test1:\n",
    "    def b(self,c):\n",
    "        print('this is the test1',c)\n",
    "class test3:\n",
    "    def a(self,d):\n",
    "        print(\"this is the gtest2\",d)\n",
    "class test2(test1,test,test3):\n",
    "    def __init__(self):\n",
    "        super(test1,self).c(3)\n",
    "        super(test,self).a(4)\n",
    "        super().b(6)\n",
    "object=test2()"
   ]
  },
  {
   "cell_type": "code",
   "execution_count": 51,
   "metadata": {},
   "outputs": [
    {
     "name": "stdout",
     "output_type": "stream",
     "text": [
      "this is the test 3\n",
      "this is the gtest2 4\n",
      "this is the test1 6\n"
     ]
    }
   ],
   "source": [
    "class test:\n",
    "    def a(self,b):\n",
    "        \n",
    "        print('this is the test',b)\n",
    "class test1:\n",
    "    def a(self,c):\n",
    "        print('this is the test1',c)\n",
    "class test3:\n",
    "    def a(self,d):\n",
    "        print(\"this is the gtest2\",d)\n",
    "class test2(test1,test,test3):\n",
    "    def __init__(self):\n",
    "        super(test1,self).a(3)\n",
    "        super(test,self).a(4)\n",
    "        super().a(6)\n",
    "object=test2()"
   ]
  },
  {
   "cell_type": "code",
   "execution_count": 69,
   "metadata": {},
   "outputs": [
    {
     "name": "stdout",
     "output_type": "stream",
     "text": [
      "63\n",
      "17\n"
     ]
    }
   ],
   "source": [
    "#overriding\n",
    "\n",
    "class overriding_fun:\n",
    "    def function1(self,x,y):\n",
    "        return x*y\n",
    "\n",
    "class overriding_fun1:\n",
    "    def function1(self,x,y):\n",
    "        return x+y\n",
    "    \n",
    "object1=overriding_fun()\n",
    "print(object1.function1(7,9))\n",
    "object2=overriding_fun1()\n",
    "print(object2.function1(8,9))\n"
   ]
  },
  {
   "cell_type": "code",
   "execution_count": 79,
   "metadata": {},
   "outputs": [
    {
     "name": "stdout",
     "output_type": "stream",
     "text": [
      "17\n"
     ]
    }
   ],
   "source": [
    "class overloading_class:\n",
    "    def function1(self,a,b):\n",
    "        self.result=a+b\n",
    "        return self.result\n",
    "class overloading_class1(overloading_class):\n",
    "    def function1(self, a, b):\n",
    "        self.result=super().function1(a,b)\n",
    "        return self.result*b\n",
    "    \n",
    "\n",
    "object=overloading_class1()\n",
    "object.function1(8,9)\n",
    "print(object.result)"
   ]
  },
  {
   "cell_type": "code",
   "execution_count": 80,
   "metadata": {},
   "outputs": [
    {
     "ename": "TypeError",
     "evalue": "overloading_class1.function1() missing 1 required positional argument: 'b'",
     "output_type": "error",
     "traceback": [
      "\u001b[0;31m---------------------------------------------------------------------------\u001b[0m",
      "\u001b[0;31mTypeError\u001b[0m                                 Traceback (most recent call last)",
      "Cell \u001b[0;32mIn[80], line 14\u001b[0m\n\u001b[1;32m     12\u001b[0m         \u001b[38;5;28;01mreturn\u001b[39;00m \u001b[38;5;124m\"\u001b[39m\u001b[38;5;124msuper\u001b[39m\u001b[38;5;124m\"\u001b[39m\n\u001b[1;32m     13\u001b[0m \u001b[38;5;28mobject\u001b[39m\u001b[38;5;241m=\u001b[39moverloading_class2()\n\u001b[0;32m---> 14\u001b[0m \u001b[38;5;28;43mobject\u001b[39;49m\u001b[38;5;241;43m.\u001b[39;49m\u001b[43mfunction1\u001b[49m\u001b[43m(\u001b[49m\u001b[38;5;241;43m8\u001b[39;49m\u001b[43m,\u001b[49m\u001b[38;5;241;43m9\u001b[39;49m\u001b[43m)\u001b[49m\n\u001b[1;32m     15\u001b[0m \u001b[38;5;28mprint\u001b[39m(\u001b[38;5;28mobject\u001b[39m\u001b[38;5;241m.\u001b[39mresult)\n",
      "Cell \u001b[0;32mIn[80], line 11\u001b[0m, in \u001b[0;36moverloading_class2.function1\u001b[0;34m(self, c, d)\u001b[0m\n\u001b[1;32m     10\u001b[0m \u001b[38;5;28;01mdef\u001b[39;00m \u001b[38;5;21mfunction1\u001b[39m(\u001b[38;5;28mself\u001b[39m,c,d):\n\u001b[0;32m---> 11\u001b[0m     \u001b[38;5;28mself\u001b[39m\u001b[38;5;241m.\u001b[39mresult\u001b[38;5;241m=\u001b[39m\u001b[43moverloading_class1\u001b[49m\u001b[38;5;241;43m.\u001b[39;49m\u001b[43mfunction1\u001b[49m\u001b[43m(\u001b[49m\u001b[38;5;241;43m8\u001b[39;49m\u001b[43m,\u001b[49m\u001b[38;5;241;43m9\u001b[39;49m\u001b[43m)\u001b[49m\n\u001b[1;32m     12\u001b[0m     \u001b[38;5;28;01mreturn\u001b[39;00m \u001b[38;5;124m\"\u001b[39m\u001b[38;5;124msuper\u001b[39m\u001b[38;5;124m\"\u001b[39m\n",
      "\u001b[0;31mTypeError\u001b[0m: overloading_class1.function1() missing 1 required positional argument: 'b'"
     ]
    }
   ],
   "source": [
    "class overloading_class:\n",
    "    def function1(self,a,b):\n",
    "        self.result=a+b\n",
    "        return self.result\n",
    "class overloading_class1(overloading_class):\n",
    "    def function1(self, a, b):\n",
    "        self.result=super().function1(a,b)\n",
    "        return self.result*b\n",
    "class overloading_class2(overloading_class1):\n",
    "    def function1(self,c,d):\n",
    "        self.result=overloading_class1.function1(self,8,9)\n",
    "        return \"super\"\n",
    "object=overloading_class2()\n",
    "object.function1(8,9)\n",
    "print(object.result)"
   ]
  },
  {
   "cell_type": "code",
   "execution_count": null,
   "metadata": {},
   "outputs": [],
   "source": []
  }
 ],
 "metadata": {
  "kernelspec": {
   "display_name": "Python 3",
   "language": "python",
   "name": "python3"
  },
  "language_info": {
   "codemirror_mode": {
    "name": "ipython",
    "version": 3
   },
   "file_extension": ".py",
   "mimetype": "text/x-python",
   "name": "python",
   "nbconvert_exporter": "python",
   "pygments_lexer": "ipython3",
   "version": "3.10.12"
  }
 },
 "nbformat": 4,
 "nbformat_minor": 2
}
