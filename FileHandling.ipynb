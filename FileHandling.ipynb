{
 "cells": [
  {
   "cell_type": "code",
   "execution_count": 29,
   "metadata": {},
   "outputs": [
    {
     "name": "stdout",
     "output_type": "stream",
     "text": [
      "0 1 2 3 4 5 6 7 8 9 \n",
      "\n",
      "['helo i am srivalli\\n', 'helo i am srivalli\\n', 'helo i am srivalli']\n"
     ]
    }
   ],
   "source": [
    "file_open=open(\"first_file.txt\",'w')\n",
    "\n",
    "for i in range(10):\n",
    "    file_open.write(str(i)+\" \")\n",
    "file_open.write(\"\\nhelo i am srivalli\")\n",
    "file_open.write(\"\\nhelo i am srivalli\")\n",
    "file_open.write(\"\\nhelo i am srivalli\")\n",
    "file_open.close()\n",
    "\n",
    "file_read=open(\"first_file.txt\",'r')\n",
    "print(file_read.readline())\n",
    "\n",
    "print(file_read.readlines())\n",
    "file_read.close()"
   ]
  },
  {
   "cell_type": "code",
   "execution_count": 26,
   "metadata": {},
   "outputs": [
    {
     "name": "stdout",
     "output_type": "stream",
     "text": [
      "b'\\x00\\x00\\x00\\x00\\x00\\x00\\x00\\x00\\x00\\x00\\x00\\x00\\x00\\x00\\x00\\x00\\x00\\x00\\x00\\x00\\x00\\x00\\x00\\x00\\x00\\x00\\x00\\x00\\x00\\x00\\x00\\x00\\x00\\x00\\x00\\x00\\x00\\x00\\x00\\x00\\x00\\x00\\x00\\x00\\x00srivalli'\n"
     ]
    }
   ],
   "source": [
    "file_open=open(\"second_file.bin\",'wb')\n",
    "for i in range(10):\n",
    "    file_open.write(bytes(i))\n",
    "file_open.write(bytes(\"srivalli\",\"UTF-8\"))\n",
    "file_open.close()\n",
    "\n",
    "\n",
    "file_read=open(\"second_file.bin\",'rb')\n",
    "print(file_read.read())\n",
    "file_read.close()"
   ]
  },
  {
   "cell_type": "code",
   "execution_count": 36,
   "metadata": {},
   "outputs": [],
   "source": [
    "file_open=open(\"firstdata.txt\",\"w\")\n",
    "list1=[\"hi i am srivalli\",\"\\nshe is very danger\",\"\\nshe is veryy happy\"]\n",
    "file_open.writelines(list1)\n",
    "file_read=open(\"second_data.txt\",'w')\n",
    "file_open.close()\n",
    "file_open=open(\"firstdata.txt\",'r')\n",
    "file_open.readline()\n",
    "file_read.writelines(file_open.readlines())\n",
    "file_open.close()\n",
    "file_read.close()\n",
    "file_open=open(\"firstdata.txt\",'w')\n",
    "file_open.write(\"copied into another file\")\n",
    "file_open.close()"
   ]
  },
  {
   "cell_type": "code",
   "execution_count": null,
   "metadata": {},
   "outputs": [],
   "source": []
  }
 ],
 "metadata": {
  "kernelspec": {
   "display_name": "Python 3",
   "language": "python",
   "name": "python3"
  },
  "language_info": {
   "codemirror_mode": {
    "name": "ipython",
    "version": 3
   },
   "file_extension": ".py",
   "mimetype": "text/x-python",
   "name": "python",
   "nbconvert_exporter": "python",
   "pygments_lexer": "ipython3",
   "version": "3.10.12"
  }
 },
 "nbformat": 4,
 "nbformat_minor": 2
}
