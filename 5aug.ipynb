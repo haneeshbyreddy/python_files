{
 "cells": [
  {
   "cell_type": "code",
   "execution_count": 30,
   "metadata": {},
   "outputs": [
    {
     "name": "stdout",
     "output_type": "stream",
     "text": [
      "transposed matrix  [[1, 3], [2, 4], [9, 5]]\n",
      "[[32, 26], [68, 62]]\n"
     ]
    }
   ],
   "source": [
    "#2 matrix m*n and m*n multiply\n",
    "\n",
    "list1=[[1,2,3],[4,5,6]]\n",
    "list2=[[1,2,9],[3,4,5]]\n",
    "list3=[]\n",
    "transpose_list2=[]\n",
    "#transposeing the 2 matrix\n",
    "for i in range(len(list2[0])):\n",
    "    \n",
    "    list3=[]\n",
    "    for j in range(len(list2)):\n",
    "       # print(j)\n",
    "        #print(list2[j][i])\n",
    "        list3.append(list2[j][i])\n",
    "    transpose_list2.append(list3)\n",
    "\n",
    "print(\"transposed matrix \",transpose_list2)\n",
    "\n",
    "\n",
    "result = []\n",
    "\n",
    "for i in range(len(list1)):\n",
    "    result_row=[]\n",
    "    for j in range(len(transpose_list2[0])):\n",
    "        sum=0\n",
    "        for k in range(len(list1[0])):\n",
    "            sum+=list1[i][k]*transpose_list2[k][j]\n",
    "        result_row.append(sum)\n",
    "    result.append(result_row)\n",
    "print(result)\n",
    "\n",
    "\n"
   ]
  },
  {
   "cell_type": "code",
   "execution_count": 46,
   "metadata": {},
   "outputs": [
    {
     "name": "stdout",
     "output_type": "stream",
     "text": [
      "stack is empty\n",
      "[6, 3, 4]\n",
      "[6, 3, 4, 6, 9]\n",
      "[6, 3, 4, 6]\n",
      "not empty\n",
      "[6, 3, 4, 6]\n"
     ]
    }
   ],
   "source": [
    "#stack\n",
    "\n",
    "class Stack:\n",
    "    def __init__(self,arr=None):\n",
    "        if arr==[]:\n",
    "            self.arr=[]\n",
    "        self.arr=arr\n",
    "        self.top=len(arr)\n",
    "        \n",
    "\n",
    "\n",
    "    def insert(self, value):\n",
    "        if self.top < len(self.arr):\n",
    "            self.arr[self.top] = value\n",
    "        else:\n",
    "            self.arr.append(value)\n",
    "        self.top += 1\n",
    "        return self.arr\n",
    "    def pop(self):\n",
    "        self.arr.pop()\n",
    "        self.top-=1\n",
    "        return self.arr\n",
    "    def is_empty(self):\n",
    "        if self.top==0:\n",
    "            print(\"stack is empty\")\n",
    "        else:\n",
    "            print(\"not empty\")\n",
    "    def lenght_of_stack(self):\n",
    "        return self.top\n",
    "arr=[]\n",
    "\n",
    "mystack=Stack(arr)\n",
    "mystack.is_empty()\n",
    "mystack.insert(6)\n",
    "mystack.insert(3)\n",
    "mystack.insert(4)\n",
    "print(arr)\n",
    "mystack.insert(6)\n",
    "mystack.insert(9)\n",
    "print(arr)\n",
    "mystack.pop()\n",
    "print(arr)\n",
    "mystack.is_empty()\n",
    "mystack.lenght_of_stack()\n",
    "\n",
    "print(arr)\n",
    "    \n",
    "    \n",
    "\n",
    "\n",
    "\n",
    "    "
   ]
  },
  {
   "cell_type": "code",
   "execution_count": null,
   "metadata": {},
   "outputs": [],
   "source": []
  }
 ],
 "metadata": {
  "kernelspec": {
   "display_name": "Python 3",
   "language": "python",
   "name": "python3"
  },
  "language_info": {
   "codemirror_mode": {
    "name": "ipython",
    "version": 3
   },
   "file_extension": ".py",
   "mimetype": "text/x-python",
   "name": "python",
   "nbconvert_exporter": "python",
   "pygments_lexer": "ipython3",
   "version": "3.10.12"
  }
 },
 "nbformat": 4,
 "nbformat_minor": 2
}
