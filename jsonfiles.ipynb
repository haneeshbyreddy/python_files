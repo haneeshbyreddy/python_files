{
 "cells": [
  {
   "cell_type": "code",
   "execution_count": 38,
   "metadata": {},
   "outputs": [
    {
     "name": "stdout",
     "output_type": "stream",
     "text": [
      "This is JSON <class 'str'>\n",
      "{'id': '09', 'name': 'Nitin', 'department': 'Finance'}\n"
     ]
    }
   ],
   "source": [
    " \n",
    "import json \n",
    "  \n",
    "# JSON string \n",
    "employee = '{\"id\":\"09\", \"name\": \"Nitin\", \"department\":\"Finance\"}'\n",
    "print(\"This is JSON\", type(employee)) \n",
    "#convert to python dict\n",
    "employee_dict=json.loads(employee)\n",
    "\n",
    "print(employee_dict)"
   ]
  },
  {
   "cell_type": "code",
   "execution_count": 39,
   "metadata": {},
   "outputs": [
    {
     "name": "stdout",
     "output_type": "stream",
     "text": [
      "{\n",
      "    \"id\": \"09\",\n",
      "    \"name\": \"Nitin\",\n",
      "    \"department\": \"Finance\"\n",
      "}\n"
     ]
    }
   ],
   "source": [
    "json_object=json.dumps(employee_dict,indent=4)\n",
    "print(json_object)"
   ]
  },
  {
   "cell_type": "code",
   "execution_count": 40,
   "metadata": {},
   "outputs": [
    {
     "name": "stdout",
     "output_type": "stream",
     "text": [
      "{'id': '09', 'name': 'Nitin', 'department': 'Finance'}\n"
     ]
    }
   ],
   "source": [
    "with open (\"sample.json\",'w') as p:\n",
    "    json.dump(employee_dict,p)\n",
    "with open (\"sample.json\",'r') as p:\n",
    "    x=json.load(p)\n",
    "    print(x)"
   ]
  },
  {
   "cell_type": "code",
   "execution_count": 41,
   "metadata": {},
   "outputs": [
    {
     "name": "stdout",
     "output_type": "stream",
     "text": [
      "<class 'str'>\n"
     ]
    }
   ],
   "source": [
    "#seralization\n",
    "students={'name':'srivalli','age':19,'gendeer':'F'} #pyhton object\n",
    "\n",
    "#convert into the json objects using dumps method\n",
    "\n",
    "json_object=json.dumps(students,indent=4)\n",
    "print(type(json_object))\n",
    "with open(\"sample.json\", \"w\") as outfile:\n",
    "    outfile.write(json_object)\n",
    "\n",
    "#another way to convert\n",
    "\n",
    "with open(\"sample1.json\", \"w\") as outfile:\n",
    "    json.dump(students, outfile)\n"
   ]
  },
  {
   "cell_type": "code",
   "execution_count": 42,
   "metadata": {},
   "outputs": [
    {
     "name": "stdout",
     "output_type": "stream",
     "text": [
      "{'name': 'srivalli', 'age': 19, 'gendeer': 'F'}\n",
      "<class 'dict'>\n"
     ]
    }
   ],
   "source": [
    "#deserialization\n",
    "\n",
    "\n",
    "with open('sample1.json', 'r') as openfile:\n",
    " \n",
    "    # Reading from json file\n",
    "    json_object = json.load(openfile)\n",
    "\n",
    " \n",
    "print(json_object)\n",
    "print(type(json_object))\n",
    "arr=[]\n",
    "arr.append(json_object)\n",
    "students='{\"name\":\"niha\",\"age\":19,\"gendeer\":\"F\"}' #json string\n",
    "arr.append(students)\n",
    "with open (\"sample2.json\",'w') as write_file:\n",
    "    write_file.write(students)\n",
    "\n",
    "with open (\"sample1.json\",'w') as write_file:\n",
    "    json.dump(arr,write_file)       #python object to json object into file we use dump\n",
    "with open(\"sample2.json\",'r') as read_file:\n",
    "    python_object=json.load(read_file)   #json object to python object\n",
    "\n",
    "\n"
   ]
  },
  {
   "cell_type": "code",
   "execution_count": 43,
   "metadata": {},
   "outputs": [
    {
     "name": "stdout",
     "output_type": "stream",
     "text": [
      "{'name': 'niha', 'age': 19, 'gendeer': 'F'}\n"
     ]
    }
   ],
   "source": [
    "students='{\"name\":\"niha\",\"age\":19,\"gendeer\":\"F\"}'#json string\n",
    "#json string to python object\n",
    "jsonstring=json.loads(students)\n",
    "\n",
    "print(jsonstring)\n"
   ]
  },
  {
   "cell_type": "code",
   "execution_count": null,
   "metadata": {},
   "outputs": [],
   "source": []
  }
 ],
 "metadata": {
  "kernelspec": {
   "display_name": "Python 3",
   "language": "python",
   "name": "python3"
  },
  "language_info": {
   "codemirror_mode": {
    "name": "ipython",
    "version": 3
   },
   "file_extension": ".py",
   "mimetype": "text/x-python",
   "name": "python",
   "nbconvert_exporter": "python",
   "pygments_lexer": "ipython3",
   "version": "3.10.12"
  }
 },
 "nbformat": 4,
 "nbformat_minor": 2
}
